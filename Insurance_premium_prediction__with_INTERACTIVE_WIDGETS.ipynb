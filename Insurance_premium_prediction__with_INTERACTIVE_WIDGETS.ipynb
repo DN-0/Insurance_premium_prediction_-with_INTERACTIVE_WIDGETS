{
  "nbformat": 4,
  "nbformat_minor": 0,
  "metadata": {
    "colab": {
      "name": "Insurance_premium_prediction_ with_INTERACTIVE_WIDGETS.ipynb",
      "provenance": [],
      "collapsed_sections": []
    },
    "kernelspec": {
      "name": "python3",
      "display_name": "Python 3"
    },
    "language_info": {
      "name": "python"
    },
    "widgets": {
      "application/vnd.jupyter.widget-state+json": {
        "6f94ca25d1f040b8bdf65d78712ae2ce": {
          "model_module": "@jupyter-widgets/controls",
          "model_name": "IntSliderModel",
          "model_module_version": "1.5.0",
          "state": {
            "_dom_classes": [],
            "_model_module": "@jupyter-widgets/controls",
            "_model_module_version": "1.5.0",
            "_model_name": "IntSliderModel",
            "_view_count": null,
            "_view_module": "@jupyter-widgets/controls",
            "_view_module_version": "1.5.0",
            "_view_name": "IntSliderView",
            "continuous_update": true,
            "description": "Age:",
            "description_tooltip": null,
            "disabled": false,
            "layout": "IPY_MODEL_7dd97e9e12774b5380897a2651105bb6",
            "max": 64,
            "min": 18,
            "orientation": "horizontal",
            "readout": true,
            "readout_format": "d",
            "step": 1,
            "style": "IPY_MODEL_68b70e36266a4bbb883ac672a15e0914",
            "value": 38
          }
        },
        "7dd97e9e12774b5380897a2651105bb6": {
          "model_module": "@jupyter-widgets/base",
          "model_name": "LayoutModel",
          "model_module_version": "1.2.0",
          "state": {
            "_model_module": "@jupyter-widgets/base",
            "_model_module_version": "1.2.0",
            "_model_name": "LayoutModel",
            "_view_count": null,
            "_view_module": "@jupyter-widgets/base",
            "_view_module_version": "1.2.0",
            "_view_name": "LayoutView",
            "align_content": null,
            "align_items": null,
            "align_self": null,
            "border": null,
            "bottom": null,
            "display": null,
            "flex": null,
            "flex_flow": null,
            "grid_area": null,
            "grid_auto_columns": null,
            "grid_auto_flow": null,
            "grid_auto_rows": null,
            "grid_column": null,
            "grid_gap": null,
            "grid_row": null,
            "grid_template_areas": null,
            "grid_template_columns": null,
            "grid_template_rows": null,
            "height": null,
            "justify_content": null,
            "justify_items": null,
            "left": null,
            "margin": null,
            "max_height": null,
            "max_width": null,
            "min_height": null,
            "min_width": null,
            "object_fit": null,
            "object_position": null,
            "order": null,
            "overflow": null,
            "overflow_x": null,
            "overflow_y": null,
            "padding": null,
            "right": null,
            "top": null,
            "visibility": null,
            "width": null
          }
        },
        "68b70e36266a4bbb883ac672a15e0914": {
          "model_module": "@jupyter-widgets/controls",
          "model_name": "SliderStyleModel",
          "model_module_version": "1.5.0",
          "state": {
            "_model_module": "@jupyter-widgets/controls",
            "_model_module_version": "1.5.0",
            "_model_name": "SliderStyleModel",
            "_view_count": null,
            "_view_module": "@jupyter-widgets/base",
            "_view_module_version": "1.2.0",
            "_view_name": "StyleView",
            "description_width": "",
            "handle_color": null
          }
        },
        "0228f851b4b24cd4824f65f6a357762e": {
          "model_module": "@jupyter-widgets/controls",
          "model_name": "IntSliderModel",
          "model_module_version": "1.5.0",
          "state": {
            "_dom_classes": [],
            "_model_module": "@jupyter-widgets/controls",
            "_model_module_version": "1.5.0",
            "_model_name": "IntSliderModel",
            "_view_count": null,
            "_view_module": "@jupyter-widgets/controls",
            "_view_module_version": "1.5.0",
            "_view_name": "IntSliderView",
            "continuous_update": true,
            "description": "BMI:",
            "description_tooltip": null,
            "disabled": false,
            "layout": "IPY_MODEL_9898df14f0b14c9983ca213a9ce187af",
            "max": 54,
            "min": 15,
            "orientation": "horizontal",
            "readout": true,
            "readout_format": "d",
            "step": 1,
            "style": "IPY_MODEL_859cf5d5abfe475f8f800609ac9d2b39",
            "value": 30
          }
        },
        "9898df14f0b14c9983ca213a9ce187af": {
          "model_module": "@jupyter-widgets/base",
          "model_name": "LayoutModel",
          "model_module_version": "1.2.0",
          "state": {
            "_model_module": "@jupyter-widgets/base",
            "_model_module_version": "1.2.0",
            "_model_name": "LayoutModel",
            "_view_count": null,
            "_view_module": "@jupyter-widgets/base",
            "_view_module_version": "1.2.0",
            "_view_name": "LayoutView",
            "align_content": null,
            "align_items": null,
            "align_self": null,
            "border": null,
            "bottom": null,
            "display": null,
            "flex": null,
            "flex_flow": null,
            "grid_area": null,
            "grid_auto_columns": null,
            "grid_auto_flow": null,
            "grid_auto_rows": null,
            "grid_column": null,
            "grid_gap": null,
            "grid_row": null,
            "grid_template_areas": null,
            "grid_template_columns": null,
            "grid_template_rows": null,
            "height": null,
            "justify_content": null,
            "justify_items": null,
            "left": null,
            "margin": null,
            "max_height": null,
            "max_width": null,
            "min_height": null,
            "min_width": null,
            "object_fit": null,
            "object_position": null,
            "order": null,
            "overflow": null,
            "overflow_x": null,
            "overflow_y": null,
            "padding": null,
            "right": null,
            "top": null,
            "visibility": null,
            "width": null
          }
        },
        "859cf5d5abfe475f8f800609ac9d2b39": {
          "model_module": "@jupyter-widgets/controls",
          "model_name": "SliderStyleModel",
          "model_module_version": "1.5.0",
          "state": {
            "_model_module": "@jupyter-widgets/controls",
            "_model_module_version": "1.5.0",
            "_model_name": "SliderStyleModel",
            "_view_count": null,
            "_view_module": "@jupyter-widgets/base",
            "_view_module_version": "1.2.0",
            "_view_name": "StyleView",
            "description_width": "",
            "handle_color": null
          }
        },
        "f1b95f263ef040c4b7670ebf19ca3b0d": {
          "model_module": "@jupyter-widgets/controls",
          "model_name": "IntSliderModel",
          "model_module_version": "1.5.0",
          "state": {
            "_dom_classes": [],
            "_model_module": "@jupyter-widgets/controls",
            "_model_module_version": "1.5.0",
            "_model_name": "IntSliderModel",
            "_view_count": null,
            "_view_module": "@jupyter-widgets/controls",
            "_view_module_version": "1.5.0",
            "_view_name": "IntSliderView",
            "continuous_update": true,
            "description": "Children:",
            "description_tooltip": null,
            "disabled": false,
            "layout": "IPY_MODEL_2a01610085294f17894abfe2a3455614",
            "max": 5,
            "min": 0,
            "orientation": "horizontal",
            "readout": true,
            "readout_format": "d",
            "step": 1,
            "style": "IPY_MODEL_4c4fb14ab039414498f3206974aa9511",
            "value": 1
          }
        },
        "2a01610085294f17894abfe2a3455614": {
          "model_module": "@jupyter-widgets/base",
          "model_name": "LayoutModel",
          "model_module_version": "1.2.0",
          "state": {
            "_model_module": "@jupyter-widgets/base",
            "_model_module_version": "1.2.0",
            "_model_name": "LayoutModel",
            "_view_count": null,
            "_view_module": "@jupyter-widgets/base",
            "_view_module_version": "1.2.0",
            "_view_name": "LayoutView",
            "align_content": null,
            "align_items": null,
            "align_self": null,
            "border": null,
            "bottom": null,
            "display": null,
            "flex": null,
            "flex_flow": null,
            "grid_area": null,
            "grid_auto_columns": null,
            "grid_auto_flow": null,
            "grid_auto_rows": null,
            "grid_column": null,
            "grid_gap": null,
            "grid_row": null,
            "grid_template_areas": null,
            "grid_template_columns": null,
            "grid_template_rows": null,
            "height": null,
            "justify_content": null,
            "justify_items": null,
            "left": null,
            "margin": null,
            "max_height": null,
            "max_width": null,
            "min_height": null,
            "min_width": null,
            "object_fit": null,
            "object_position": null,
            "order": null,
            "overflow": null,
            "overflow_x": null,
            "overflow_y": null,
            "padding": null,
            "right": null,
            "top": null,
            "visibility": null,
            "width": null
          }
        },
        "4c4fb14ab039414498f3206974aa9511": {
          "model_module": "@jupyter-widgets/controls",
          "model_name": "SliderStyleModel",
          "model_module_version": "1.5.0",
          "state": {
            "_model_module": "@jupyter-widgets/controls",
            "_model_module_version": "1.5.0",
            "_model_name": "SliderStyleModel",
            "_view_count": null,
            "_view_module": "@jupyter-widgets/base",
            "_view_module_version": "1.2.0",
            "_view_name": "StyleView",
            "description_width": "",
            "handle_color": null
          }
        },
        "2f3657c4727e4197b34941d71025eb74": {
          "model_module": "@jupyter-widgets/controls",
          "model_name": "ToggleButtonsModel",
          "model_module_version": "1.5.0",
          "state": {
            "_dom_classes": [],
            "_model_module": "@jupyter-widgets/controls",
            "_model_module_version": "1.5.0",
            "_model_name": "ToggleButtonsModel",
            "_options_labels": [
              "female",
              "male"
            ],
            "_view_count": null,
            "_view_module": "@jupyter-widgets/controls",
            "_view_module_version": "1.5.0",
            "_view_name": "ToggleButtonsView",
            "button_style": "",
            "description": "Sex:",
            "description_tooltip": null,
            "disabled": false,
            "icons": [],
            "index": 1,
            "layout": "IPY_MODEL_d933c048e877469ab575e552e0c28ae7",
            "style": "IPY_MODEL_5066245594f64484af1e869fbfd56caf",
            "tooltips": []
          }
        },
        "d933c048e877469ab575e552e0c28ae7": {
          "model_module": "@jupyter-widgets/base",
          "model_name": "LayoutModel",
          "model_module_version": "1.2.0",
          "state": {
            "_model_module": "@jupyter-widgets/base",
            "_model_module_version": "1.2.0",
            "_model_name": "LayoutModel",
            "_view_count": null,
            "_view_module": "@jupyter-widgets/base",
            "_view_module_version": "1.2.0",
            "_view_name": "LayoutView",
            "align_content": null,
            "align_items": null,
            "align_self": null,
            "border": null,
            "bottom": null,
            "display": null,
            "flex": null,
            "flex_flow": null,
            "grid_area": null,
            "grid_auto_columns": null,
            "grid_auto_flow": null,
            "grid_auto_rows": null,
            "grid_column": null,
            "grid_gap": null,
            "grid_row": null,
            "grid_template_areas": null,
            "grid_template_columns": null,
            "grid_template_rows": null,
            "height": null,
            "justify_content": null,
            "justify_items": null,
            "left": null,
            "margin": null,
            "max_height": null,
            "max_width": null,
            "min_height": null,
            "min_width": null,
            "object_fit": null,
            "object_position": null,
            "order": null,
            "overflow": null,
            "overflow_x": null,
            "overflow_y": null,
            "padding": null,
            "right": null,
            "top": null,
            "visibility": null,
            "width": null
          }
        },
        "5066245594f64484af1e869fbfd56caf": {
          "model_module": "@jupyter-widgets/controls",
          "model_name": "ToggleButtonsStyleModel",
          "model_module_version": "1.5.0",
          "state": {
            "_model_module": "@jupyter-widgets/controls",
            "_model_module_version": "1.5.0",
            "_model_name": "ToggleButtonsStyleModel",
            "_view_count": null,
            "_view_module": "@jupyter-widgets/base",
            "_view_module_version": "1.2.0",
            "_view_name": "StyleView",
            "button_width": "",
            "description_width": "",
            "font_weight": ""
          }
        },
        "8e2180ffb06a4d82a259d283a98c15c6": {
          "model_module": "@jupyter-widgets/controls",
          "model_name": "ToggleButtonsModel",
          "model_module_version": "1.5.0",
          "state": {
            "_dom_classes": [],
            "_model_module": "@jupyter-widgets/controls",
            "_model_module_version": "1.5.0",
            "_model_name": "ToggleButtonsModel",
            "_options_labels": [
              "yes",
              "no"
            ],
            "_view_count": null,
            "_view_module": "@jupyter-widgets/controls",
            "_view_module_version": "1.5.0",
            "_view_name": "ToggleButtonsView",
            "button_style": "",
            "description": "Smoker:",
            "description_tooltip": null,
            "disabled": false,
            "icons": [],
            "index": 1,
            "layout": "IPY_MODEL_0772ee8583604c13bf4c5b19d3e19e01",
            "style": "IPY_MODEL_85cb0f97d5214f5cb9aad82c00eb8cab",
            "tooltips": []
          }
        },
        "0772ee8583604c13bf4c5b19d3e19e01": {
          "model_module": "@jupyter-widgets/base",
          "model_name": "LayoutModel",
          "model_module_version": "1.2.0",
          "state": {
            "_model_module": "@jupyter-widgets/base",
            "_model_module_version": "1.2.0",
            "_model_name": "LayoutModel",
            "_view_count": null,
            "_view_module": "@jupyter-widgets/base",
            "_view_module_version": "1.2.0",
            "_view_name": "LayoutView",
            "align_content": null,
            "align_items": null,
            "align_self": null,
            "border": null,
            "bottom": null,
            "display": null,
            "flex": null,
            "flex_flow": null,
            "grid_area": null,
            "grid_auto_columns": null,
            "grid_auto_flow": null,
            "grid_auto_rows": null,
            "grid_column": null,
            "grid_gap": null,
            "grid_row": null,
            "grid_template_areas": null,
            "grid_template_columns": null,
            "grid_template_rows": null,
            "height": null,
            "justify_content": null,
            "justify_items": null,
            "left": null,
            "margin": null,
            "max_height": null,
            "max_width": null,
            "min_height": null,
            "min_width": null,
            "object_fit": null,
            "object_position": null,
            "order": null,
            "overflow": null,
            "overflow_x": null,
            "overflow_y": null,
            "padding": null,
            "right": null,
            "top": null,
            "visibility": null,
            "width": null
          }
        },
        "85cb0f97d5214f5cb9aad82c00eb8cab": {
          "model_module": "@jupyter-widgets/controls",
          "model_name": "ToggleButtonsStyleModel",
          "model_module_version": "1.5.0",
          "state": {
            "_model_module": "@jupyter-widgets/controls",
            "_model_module_version": "1.5.0",
            "_model_name": "ToggleButtonsStyleModel",
            "_view_count": null,
            "_view_module": "@jupyter-widgets/base",
            "_view_module_version": "1.2.0",
            "_view_name": "StyleView",
            "button_width": "",
            "description_width": "",
            "font_weight": ""
          }
        },
        "4e515a07076a492f9a0a134578802391": {
          "model_module": "@jupyter-widgets/controls",
          "model_name": "DropdownModel",
          "model_module_version": "1.5.0",
          "state": {
            "_dom_classes": [],
            "_model_module": "@jupyter-widgets/controls",
            "_model_module_version": "1.5.0",
            "_model_name": "DropdownModel",
            "_options_labels": [
              "northeast",
              "northwest",
              "southeast",
              "outhwest"
            ],
            "_view_count": null,
            "_view_module": "@jupyter-widgets/controls",
            "_view_module_version": "1.5.0",
            "_view_name": "DropdownView",
            "description": "Region:",
            "description_tooltip": null,
            "disabled": false,
            "index": 2,
            "layout": "IPY_MODEL_0052b3a47f6e45be9f03d2d093f4ea4d",
            "style": "IPY_MODEL_b5900c586d6744c2b3210e969a515c9f"
          }
        },
        "0052b3a47f6e45be9f03d2d093f4ea4d": {
          "model_module": "@jupyter-widgets/base",
          "model_name": "LayoutModel",
          "model_module_version": "1.2.0",
          "state": {
            "_model_module": "@jupyter-widgets/base",
            "_model_module_version": "1.2.0",
            "_model_name": "LayoutModel",
            "_view_count": null,
            "_view_module": "@jupyter-widgets/base",
            "_view_module_version": "1.2.0",
            "_view_name": "LayoutView",
            "align_content": null,
            "align_items": null,
            "align_self": null,
            "border": null,
            "bottom": null,
            "display": null,
            "flex": null,
            "flex_flow": null,
            "grid_area": null,
            "grid_auto_columns": null,
            "grid_auto_flow": null,
            "grid_auto_rows": null,
            "grid_column": null,
            "grid_gap": null,
            "grid_row": null,
            "grid_template_areas": null,
            "grid_template_columns": null,
            "grid_template_rows": null,
            "height": null,
            "justify_content": null,
            "justify_items": null,
            "left": null,
            "margin": null,
            "max_height": null,
            "max_width": null,
            "min_height": null,
            "min_width": null,
            "object_fit": null,
            "object_position": null,
            "order": null,
            "overflow": null,
            "overflow_x": null,
            "overflow_y": null,
            "padding": null,
            "right": null,
            "top": null,
            "visibility": null,
            "width": null
          }
        },
        "b5900c586d6744c2b3210e969a515c9f": {
          "model_module": "@jupyter-widgets/controls",
          "model_name": "DescriptionStyleModel",
          "model_module_version": "1.5.0",
          "state": {
            "_model_module": "@jupyter-widgets/controls",
            "_model_module_version": "1.5.0",
            "_model_name": "DescriptionStyleModel",
            "_view_count": null,
            "_view_module": "@jupyter-widgets/base",
            "_view_module_version": "1.2.0",
            "_view_name": "StyleView",
            "description_width": ""
          }
        },
        "f6fa517b4d2746f6b522c66c3bc3ca5e": {
          "model_module": "@jupyter-widgets/controls",
          "model_name": "ButtonModel",
          "model_module_version": "1.5.0",
          "state": {
            "_dom_classes": [],
            "_model_module": "@jupyter-widgets/controls",
            "_model_module_version": "1.5.0",
            "_model_name": "ButtonModel",
            "_view_count": null,
            "_view_module": "@jupyter-widgets/controls",
            "_view_module_version": "1.5.0",
            "_view_name": "ButtonView",
            "button_style": "",
            "description": "Predict",
            "disabled": false,
            "icon": "",
            "layout": "IPY_MODEL_e4f52ed48e7e4cb2a4f6b982e9b53b9a",
            "style": "IPY_MODEL_478e9a7164ba4989b5879d146bdc6950",
            "tooltip": ""
          }
        },
        "e4f52ed48e7e4cb2a4f6b982e9b53b9a": {
          "model_module": "@jupyter-widgets/base",
          "model_name": "LayoutModel",
          "model_module_version": "1.2.0",
          "state": {
            "_model_module": "@jupyter-widgets/base",
            "_model_module_version": "1.2.0",
            "_model_name": "LayoutModel",
            "_view_count": null,
            "_view_module": "@jupyter-widgets/base",
            "_view_module_version": "1.2.0",
            "_view_name": "LayoutView",
            "align_content": null,
            "align_items": null,
            "align_self": null,
            "border": null,
            "bottom": null,
            "display": null,
            "flex": null,
            "flex_flow": null,
            "grid_area": null,
            "grid_auto_columns": null,
            "grid_auto_flow": null,
            "grid_auto_rows": null,
            "grid_column": null,
            "grid_gap": null,
            "grid_row": null,
            "grid_template_areas": null,
            "grid_template_columns": null,
            "grid_template_rows": null,
            "height": null,
            "justify_content": null,
            "justify_items": null,
            "left": null,
            "margin": null,
            "max_height": null,
            "max_width": null,
            "min_height": null,
            "min_width": null,
            "object_fit": null,
            "object_position": null,
            "order": null,
            "overflow": null,
            "overflow_x": null,
            "overflow_y": null,
            "padding": null,
            "right": null,
            "top": null,
            "visibility": null,
            "width": null
          }
        },
        "478e9a7164ba4989b5879d146bdc6950": {
          "model_module": "@jupyter-widgets/controls",
          "model_name": "ButtonStyleModel",
          "model_module_version": "1.5.0",
          "state": {
            "_model_module": "@jupyter-widgets/controls",
            "_model_module_version": "1.5.0",
            "_model_name": "ButtonStyleModel",
            "_view_count": null,
            "_view_module": "@jupyter-widgets/base",
            "_view_module_version": "1.2.0",
            "_view_name": "StyleView",
            "button_color": null,
            "font_weight": ""
          }
        },
        "cac104115f04444d936746a2e226f006": {
          "model_module": "@jupyter-widgets/output",
          "model_name": "OutputModel",
          "model_module_version": "1.0.0",
          "state": {
            "_dom_classes": [],
            "_model_module": "@jupyter-widgets/output",
            "_model_module_version": "1.0.0",
            "_model_name": "OutputModel",
            "_view_count": null,
            "_view_module": "@jupyter-widgets/output",
            "_view_module_version": "1.0.0",
            "_view_name": "OutputView",
            "layout": "IPY_MODEL_237f294d62dd4aa3b0b67eaf120e4324",
            "msg_id": "",
            "outputs": [
              {
                "output_type": "stream",
                "name": "stdout",
                "text": [
                  "Prediction: 6221.5796\n"
                ]
              }
            ]
          }
        },
        "237f294d62dd4aa3b0b67eaf120e4324": {
          "model_module": "@jupyter-widgets/base",
          "model_name": "LayoutModel",
          "model_module_version": "1.2.0",
          "state": {
            "_model_module": "@jupyter-widgets/base",
            "_model_module_version": "1.2.0",
            "_model_name": "LayoutModel",
            "_view_count": null,
            "_view_module": "@jupyter-widgets/base",
            "_view_module_version": "1.2.0",
            "_view_name": "LayoutView",
            "align_content": null,
            "align_items": null,
            "align_self": null,
            "border": null,
            "bottom": null,
            "display": null,
            "flex": null,
            "flex_flow": null,
            "grid_area": null,
            "grid_auto_columns": null,
            "grid_auto_flow": null,
            "grid_auto_rows": null,
            "grid_column": null,
            "grid_gap": null,
            "grid_row": null,
            "grid_template_areas": null,
            "grid_template_columns": null,
            "grid_template_rows": null,
            "height": null,
            "justify_content": null,
            "justify_items": null,
            "left": null,
            "margin": null,
            "max_height": null,
            "max_width": null,
            "min_height": null,
            "min_width": null,
            "object_fit": null,
            "object_position": null,
            "order": null,
            "overflow": null,
            "overflow_x": null,
            "overflow_y": null,
            "padding": null,
            "right": null,
            "top": null,
            "visibility": null,
            "width": null
          }
        }
      }
    }
  },
  "cells": [
    {
      "cell_type": "markdown",
      "source": [
        "### **Insurance Premium Predictions**"
      ],
      "metadata": {
        "id": "ekmMLTx-dqT_"
      }
    },
    {
      "cell_type": "markdown",
      "source": [
        "**Disclaimer: the notebook needs to be run in a live environment(Jupyter notebooks, Google colab, etc) in order for the interactive widgets to function (in GitHub they will be static).** "
      ],
      "metadata": {
        "id": "VQklDEth2OGN"
      }
    },
    {
      "cell_type": "markdown",
      "source": [
        "### **Problem statement: predicting the premium charges a given customer will incur, given data about insurance customers.**"
      ],
      "metadata": {
        "id": "QwsLCNHFdddk"
      }
    },
    {
      "cell_type": "markdown",
      "source": [
        "**Import libraries, packages, modules**"
      ],
      "metadata": {
        "id": "Fp6lQcqidyCi"
      }
    },
    {
      "cell_type": "code",
      "execution_count": null,
      "metadata": {
        "id": "KZX44gV1aUXv"
      },
      "outputs": [],
      "source": [
        "import numpy as np\n",
        "import pandas as pd\n",
        "\n",
        "from sklearn.model_selection import train_test_split\n",
        "from sklearn.preprocessing import OneHotEncoder, StandardScaler\n",
        "from sklearn.compose import ColumnTransformer\n",
        "from sklearn.pipeline import Pipeline\n",
        "from sklearn.linear_model import LinearRegression\n",
        "from sklearn.ensemble import RandomForestRegressor\n",
        "\n",
        "import ipywidgets as widgets\n",
        "from IPython.display import display"
      ]
    },
    {
      "cell_type": "markdown",
      "source": [
        "Import the dataset"
      ],
      "metadata": {
        "id": "j9ahqHdce4NX"
      }
    },
    {
      "cell_type": "code",
      "source": [
        "data=pd.read_csv('/content/drive/MyDrive/Colab Notebooks/Insurance_premium_predictions/insurance.csv')"
      ],
      "metadata": {
        "id": "7x_Jbp52e5kU"
      },
      "execution_count": null,
      "outputs": []
    },
    {
      "cell_type": "code",
      "source": [
        "data"
      ],
      "metadata": {
        "colab": {
          "base_uri": "https://localhost:8080/",
          "height": 424
        },
        "id": "YBprhs9Me-Kh",
        "outputId": "89c3151c-ac11-402d-ddaf-c08eb6b9289c"
      },
      "execution_count": null,
      "outputs": [
        {
          "output_type": "execute_result",
          "data": {
            "text/plain": [
              "      age     sex     bmi  children smoker     region      charges\n",
              "0      19  female  27.900         0    yes  southwest  16884.92400\n",
              "1      18    male  33.770         1     no  southeast   1725.55230\n",
              "2      28    male  33.000         3     no  southeast   4449.46200\n",
              "3      33    male  22.705         0     no  northwest  21984.47061\n",
              "4      32    male  28.880         0     no  northwest   3866.85520\n",
              "...   ...     ...     ...       ...    ...        ...          ...\n",
              "1333   50    male  30.970         3     no  northwest  10600.54830\n",
              "1334   18  female  31.920         0     no  northeast   2205.98080\n",
              "1335   18  female  36.850         0     no  southeast   1629.83350\n",
              "1336   21  female  25.800         0     no  southwest   2007.94500\n",
              "1337   61  female  29.070         0    yes  northwest  29141.36030\n",
              "\n",
              "[1338 rows x 7 columns]"
            ],
            "text/html": [
              "\n",
              "  <div id=\"df-4603bbd6-c926-4cb7-9dcc-bcb1c1cfccbc\">\n",
              "    <div class=\"colab-df-container\">\n",
              "      <div>\n",
              "<style scoped>\n",
              "    .dataframe tbody tr th:only-of-type {\n",
              "        vertical-align: middle;\n",
              "    }\n",
              "\n",
              "    .dataframe tbody tr th {\n",
              "        vertical-align: top;\n",
              "    }\n",
              "\n",
              "    .dataframe thead th {\n",
              "        text-align: right;\n",
              "    }\n",
              "</style>\n",
              "<table border=\"1\" class=\"dataframe\">\n",
              "  <thead>\n",
              "    <tr style=\"text-align: right;\">\n",
              "      <th></th>\n",
              "      <th>age</th>\n",
              "      <th>sex</th>\n",
              "      <th>bmi</th>\n",
              "      <th>children</th>\n",
              "      <th>smoker</th>\n",
              "      <th>region</th>\n",
              "      <th>charges</th>\n",
              "    </tr>\n",
              "  </thead>\n",
              "  <tbody>\n",
              "    <tr>\n",
              "      <th>0</th>\n",
              "      <td>19</td>\n",
              "      <td>female</td>\n",
              "      <td>27.900</td>\n",
              "      <td>0</td>\n",
              "      <td>yes</td>\n",
              "      <td>southwest</td>\n",
              "      <td>16884.92400</td>\n",
              "    </tr>\n",
              "    <tr>\n",
              "      <th>1</th>\n",
              "      <td>18</td>\n",
              "      <td>male</td>\n",
              "      <td>33.770</td>\n",
              "      <td>1</td>\n",
              "      <td>no</td>\n",
              "      <td>southeast</td>\n",
              "      <td>1725.55230</td>\n",
              "    </tr>\n",
              "    <tr>\n",
              "      <th>2</th>\n",
              "      <td>28</td>\n",
              "      <td>male</td>\n",
              "      <td>33.000</td>\n",
              "      <td>3</td>\n",
              "      <td>no</td>\n",
              "      <td>southeast</td>\n",
              "      <td>4449.46200</td>\n",
              "    </tr>\n",
              "    <tr>\n",
              "      <th>3</th>\n",
              "      <td>33</td>\n",
              "      <td>male</td>\n",
              "      <td>22.705</td>\n",
              "      <td>0</td>\n",
              "      <td>no</td>\n",
              "      <td>northwest</td>\n",
              "      <td>21984.47061</td>\n",
              "    </tr>\n",
              "    <tr>\n",
              "      <th>4</th>\n",
              "      <td>32</td>\n",
              "      <td>male</td>\n",
              "      <td>28.880</td>\n",
              "      <td>0</td>\n",
              "      <td>no</td>\n",
              "      <td>northwest</td>\n",
              "      <td>3866.85520</td>\n",
              "    </tr>\n",
              "    <tr>\n",
              "      <th>...</th>\n",
              "      <td>...</td>\n",
              "      <td>...</td>\n",
              "      <td>...</td>\n",
              "      <td>...</td>\n",
              "      <td>...</td>\n",
              "      <td>...</td>\n",
              "      <td>...</td>\n",
              "    </tr>\n",
              "    <tr>\n",
              "      <th>1333</th>\n",
              "      <td>50</td>\n",
              "      <td>male</td>\n",
              "      <td>30.970</td>\n",
              "      <td>3</td>\n",
              "      <td>no</td>\n",
              "      <td>northwest</td>\n",
              "      <td>10600.54830</td>\n",
              "    </tr>\n",
              "    <tr>\n",
              "      <th>1334</th>\n",
              "      <td>18</td>\n",
              "      <td>female</td>\n",
              "      <td>31.920</td>\n",
              "      <td>0</td>\n",
              "      <td>no</td>\n",
              "      <td>northeast</td>\n",
              "      <td>2205.98080</td>\n",
              "    </tr>\n",
              "    <tr>\n",
              "      <th>1335</th>\n",
              "      <td>18</td>\n",
              "      <td>female</td>\n",
              "      <td>36.850</td>\n",
              "      <td>0</td>\n",
              "      <td>no</td>\n",
              "      <td>southeast</td>\n",
              "      <td>1629.83350</td>\n",
              "    </tr>\n",
              "    <tr>\n",
              "      <th>1336</th>\n",
              "      <td>21</td>\n",
              "      <td>female</td>\n",
              "      <td>25.800</td>\n",
              "      <td>0</td>\n",
              "      <td>no</td>\n",
              "      <td>southwest</td>\n",
              "      <td>2007.94500</td>\n",
              "    </tr>\n",
              "    <tr>\n",
              "      <th>1337</th>\n",
              "      <td>61</td>\n",
              "      <td>female</td>\n",
              "      <td>29.070</td>\n",
              "      <td>0</td>\n",
              "      <td>yes</td>\n",
              "      <td>northwest</td>\n",
              "      <td>29141.36030</td>\n",
              "    </tr>\n",
              "  </tbody>\n",
              "</table>\n",
              "<p>1338 rows × 7 columns</p>\n",
              "</div>\n",
              "      <button class=\"colab-df-convert\" onclick=\"convertToInteractive('df-4603bbd6-c926-4cb7-9dcc-bcb1c1cfccbc')\"\n",
              "              title=\"Convert this dataframe to an interactive table.\"\n",
              "              style=\"display:none;\">\n",
              "        \n",
              "  <svg xmlns=\"http://www.w3.org/2000/svg\" height=\"24px\"viewBox=\"0 0 24 24\"\n",
              "       width=\"24px\">\n",
              "    <path d=\"M0 0h24v24H0V0z\" fill=\"none\"/>\n",
              "    <path d=\"M18.56 5.44l.94 2.06.94-2.06 2.06-.94-2.06-.94-.94-2.06-.94 2.06-2.06.94zm-11 1L8.5 8.5l.94-2.06 2.06-.94-2.06-.94L8.5 2.5l-.94 2.06-2.06.94zm10 10l.94 2.06.94-2.06 2.06-.94-2.06-.94-.94-2.06-.94 2.06-2.06.94z\"/><path d=\"M17.41 7.96l-1.37-1.37c-.4-.4-.92-.59-1.43-.59-.52 0-1.04.2-1.43.59L10.3 9.45l-7.72 7.72c-.78.78-.78 2.05 0 2.83L4 21.41c.39.39.9.59 1.41.59.51 0 1.02-.2 1.41-.59l7.78-7.78 2.81-2.81c.8-.78.8-2.07 0-2.86zM5.41 20L4 18.59l7.72-7.72 1.47 1.35L5.41 20z\"/>\n",
              "  </svg>\n",
              "      </button>\n",
              "      \n",
              "  <style>\n",
              "    .colab-df-container {\n",
              "      display:flex;\n",
              "      flex-wrap:wrap;\n",
              "      gap: 12px;\n",
              "    }\n",
              "\n",
              "    .colab-df-convert {\n",
              "      background-color: #E8F0FE;\n",
              "      border: none;\n",
              "      border-radius: 50%;\n",
              "      cursor: pointer;\n",
              "      display: none;\n",
              "      fill: #1967D2;\n",
              "      height: 32px;\n",
              "      padding: 0 0 0 0;\n",
              "      width: 32px;\n",
              "    }\n",
              "\n",
              "    .colab-df-convert:hover {\n",
              "      background-color: #E2EBFA;\n",
              "      box-shadow: 0px 1px 2px rgba(60, 64, 67, 0.3), 0px 1px 3px 1px rgba(60, 64, 67, 0.15);\n",
              "      fill: #174EA6;\n",
              "    }\n",
              "\n",
              "    [theme=dark] .colab-df-convert {\n",
              "      background-color: #3B4455;\n",
              "      fill: #D2E3FC;\n",
              "    }\n",
              "\n",
              "    [theme=dark] .colab-df-convert:hover {\n",
              "      background-color: #434B5C;\n",
              "      box-shadow: 0px 1px 3px 1px rgba(0, 0, 0, 0.15);\n",
              "      filter: drop-shadow(0px 1px 2px rgba(0, 0, 0, 0.3));\n",
              "      fill: #FFFFFF;\n",
              "    }\n",
              "  </style>\n",
              "\n",
              "      <script>\n",
              "        const buttonEl =\n",
              "          document.querySelector('#df-4603bbd6-c926-4cb7-9dcc-bcb1c1cfccbc button.colab-df-convert');\n",
              "        buttonEl.style.display =\n",
              "          google.colab.kernel.accessAllowed ? 'block' : 'none';\n",
              "\n",
              "        async function convertToInteractive(key) {\n",
              "          const element = document.querySelector('#df-4603bbd6-c926-4cb7-9dcc-bcb1c1cfccbc');\n",
              "          const dataTable =\n",
              "            await google.colab.kernel.invokeFunction('convertToInteractive',\n",
              "                                                     [key], {});\n",
              "          if (!dataTable) return;\n",
              "\n",
              "          const docLinkHtml = 'Like what you see? Visit the ' +\n",
              "            '<a target=\"_blank\" href=https://colab.research.google.com/notebooks/data_table.ipynb>data table notebook</a>'\n",
              "            + ' to learn more about interactive tables.';\n",
              "          element.innerHTML = '';\n",
              "          dataTable['output_type'] = 'display_data';\n",
              "          await google.colab.output.renderOutput(dataTable, element);\n",
              "          const docLink = document.createElement('div');\n",
              "          docLink.innerHTML = docLinkHtml;\n",
              "          element.appendChild(docLink);\n",
              "        }\n",
              "      </script>\n",
              "    </div>\n",
              "  </div>\n",
              "  "
            ]
          },
          "metadata": {},
          "execution_count": 3
        }
      ]
    },
    {
      "cell_type": "markdown",
      "source": [
        "**Check datatypes and missing values.**"
      ],
      "metadata": {
        "id": "6-GDWA_RfFNb"
      }
    },
    {
      "cell_type": "code",
      "source": [
        "data.info()"
      ],
      "metadata": {
        "colab": {
          "base_uri": "https://localhost:8080/"
        },
        "id": "z6_eTLZKfIvD",
        "outputId": "ec04af97-f303-4921-98f2-9fbecf2e31f0"
      },
      "execution_count": null,
      "outputs": [
        {
          "output_type": "stream",
          "name": "stdout",
          "text": [
            "<class 'pandas.core.frame.DataFrame'>\n",
            "RangeIndex: 1338 entries, 0 to 1337\n",
            "Data columns (total 7 columns):\n",
            " #   Column    Non-Null Count  Dtype  \n",
            "---  ------    --------------  -----  \n",
            " 0   age       1338 non-null   int64  \n",
            " 1   sex       1338 non-null   object \n",
            " 2   bmi       1338 non-null   float64\n",
            " 3   children  1338 non-null   int64  \n",
            " 4   smoker    1338 non-null   object \n",
            " 5   region    1338 non-null   object \n",
            " 6   charges   1338 non-null   float64\n",
            "dtypes: float64(2), int64(2), object(3)\n",
            "memory usage: 73.3+ KB\n"
          ]
        }
      ]
    },
    {
      "cell_type": "markdown",
      "source": [
        "## **Preprocessing**"
      ],
      "metadata": {
        "id": "Y3o6JzJVfSO2"
      }
    },
    {
      "cell_type": "markdown",
      "source": [
        "**Preprocessing function**"
      ],
      "metadata": {
        "id": "mqJoZN_efT5Z"
      }
    },
    {
      "cell_type": "code",
      "source": [
        "def preprocessing_inputs(df):\n",
        "    df=df.copy()\n",
        "\n",
        "    #Split data into X(features) and y (target)\n",
        "    y=df['charges']\n",
        "    X=df.drop('charges', axis=1)\n",
        "\n",
        "    # Train - test split\n",
        "    X_train, X_test, y_train, y_test=train_test_split(X, y, train_size=0.7, shuffle=True, random_state=1)\n",
        "    \n",
        "    return X_train, X_test, y_train, y_test"
      ],
      "metadata": {
        "id": "KtumOsu7fW4M"
      },
      "execution_count": null,
      "outputs": []
    },
    {
      "cell_type": "code",
      "source": [
        " X_train, X_test, y_train, y_test=preprocessing_inputs(data)"
      ],
      "metadata": {
        "id": "W1fv6xBwgeUk"
      },
      "execution_count": null,
      "outputs": []
    },
    {
      "cell_type": "code",
      "source": [
        "X_train"
      ],
      "metadata": {
        "colab": {
          "base_uri": "https://localhost:8080/",
          "height": 424
        },
        "id": "bdFNb9Z7guac",
        "outputId": "f73b2f1b-357f-4076-8dc2-6f3ebbe7b3d6"
      },
      "execution_count": null,
      "outputs": [
        {
          "output_type": "execute_result",
          "data": {
            "text/plain": [
              "      age     sex     bmi  children smoker     region\n",
              "744    50    male  26.410         0     no  northwest\n",
              "363    21  female  26.400         1     no  southwest\n",
              "10     25    male  26.220         0     no  northeast\n",
              "970    50  female  28.160         3     no  southeast\n",
              "634    51    male  39.700         1     no  southwest\n",
              "...   ...     ...     ...       ...    ...        ...\n",
              "715    60    male  28.900         0     no  southwest\n",
              "905    26  female  29.355         2     no  northeast\n",
              "1096   51  female  34.960         2    yes  northeast\n",
              "235    40  female  22.220         2    yes  southeast\n",
              "1061   57    male  27.940         1     no  southeast\n",
              "\n",
              "[936 rows x 6 columns]"
            ],
            "text/html": [
              "\n",
              "  <div id=\"df-3f7a4268-41e7-4bf1-98e3-8ef7f87d3ce5\">\n",
              "    <div class=\"colab-df-container\">\n",
              "      <div>\n",
              "<style scoped>\n",
              "    .dataframe tbody tr th:only-of-type {\n",
              "        vertical-align: middle;\n",
              "    }\n",
              "\n",
              "    .dataframe tbody tr th {\n",
              "        vertical-align: top;\n",
              "    }\n",
              "\n",
              "    .dataframe thead th {\n",
              "        text-align: right;\n",
              "    }\n",
              "</style>\n",
              "<table border=\"1\" class=\"dataframe\">\n",
              "  <thead>\n",
              "    <tr style=\"text-align: right;\">\n",
              "      <th></th>\n",
              "      <th>age</th>\n",
              "      <th>sex</th>\n",
              "      <th>bmi</th>\n",
              "      <th>children</th>\n",
              "      <th>smoker</th>\n",
              "      <th>region</th>\n",
              "    </tr>\n",
              "  </thead>\n",
              "  <tbody>\n",
              "    <tr>\n",
              "      <th>744</th>\n",
              "      <td>50</td>\n",
              "      <td>male</td>\n",
              "      <td>26.410</td>\n",
              "      <td>0</td>\n",
              "      <td>no</td>\n",
              "      <td>northwest</td>\n",
              "    </tr>\n",
              "    <tr>\n",
              "      <th>363</th>\n",
              "      <td>21</td>\n",
              "      <td>female</td>\n",
              "      <td>26.400</td>\n",
              "      <td>1</td>\n",
              "      <td>no</td>\n",
              "      <td>southwest</td>\n",
              "    </tr>\n",
              "    <tr>\n",
              "      <th>10</th>\n",
              "      <td>25</td>\n",
              "      <td>male</td>\n",
              "      <td>26.220</td>\n",
              "      <td>0</td>\n",
              "      <td>no</td>\n",
              "      <td>northeast</td>\n",
              "    </tr>\n",
              "    <tr>\n",
              "      <th>970</th>\n",
              "      <td>50</td>\n",
              "      <td>female</td>\n",
              "      <td>28.160</td>\n",
              "      <td>3</td>\n",
              "      <td>no</td>\n",
              "      <td>southeast</td>\n",
              "    </tr>\n",
              "    <tr>\n",
              "      <th>634</th>\n",
              "      <td>51</td>\n",
              "      <td>male</td>\n",
              "      <td>39.700</td>\n",
              "      <td>1</td>\n",
              "      <td>no</td>\n",
              "      <td>southwest</td>\n",
              "    </tr>\n",
              "    <tr>\n",
              "      <th>...</th>\n",
              "      <td>...</td>\n",
              "      <td>...</td>\n",
              "      <td>...</td>\n",
              "      <td>...</td>\n",
              "      <td>...</td>\n",
              "      <td>...</td>\n",
              "    </tr>\n",
              "    <tr>\n",
              "      <th>715</th>\n",
              "      <td>60</td>\n",
              "      <td>male</td>\n",
              "      <td>28.900</td>\n",
              "      <td>0</td>\n",
              "      <td>no</td>\n",
              "      <td>southwest</td>\n",
              "    </tr>\n",
              "    <tr>\n",
              "      <th>905</th>\n",
              "      <td>26</td>\n",
              "      <td>female</td>\n",
              "      <td>29.355</td>\n",
              "      <td>2</td>\n",
              "      <td>no</td>\n",
              "      <td>northeast</td>\n",
              "    </tr>\n",
              "    <tr>\n",
              "      <th>1096</th>\n",
              "      <td>51</td>\n",
              "      <td>female</td>\n",
              "      <td>34.960</td>\n",
              "      <td>2</td>\n",
              "      <td>yes</td>\n",
              "      <td>northeast</td>\n",
              "    </tr>\n",
              "    <tr>\n",
              "      <th>235</th>\n",
              "      <td>40</td>\n",
              "      <td>female</td>\n",
              "      <td>22.220</td>\n",
              "      <td>2</td>\n",
              "      <td>yes</td>\n",
              "      <td>southeast</td>\n",
              "    </tr>\n",
              "    <tr>\n",
              "      <th>1061</th>\n",
              "      <td>57</td>\n",
              "      <td>male</td>\n",
              "      <td>27.940</td>\n",
              "      <td>1</td>\n",
              "      <td>no</td>\n",
              "      <td>southeast</td>\n",
              "    </tr>\n",
              "  </tbody>\n",
              "</table>\n",
              "<p>936 rows × 6 columns</p>\n",
              "</div>\n",
              "      <button class=\"colab-df-convert\" onclick=\"convertToInteractive('df-3f7a4268-41e7-4bf1-98e3-8ef7f87d3ce5')\"\n",
              "              title=\"Convert this dataframe to an interactive table.\"\n",
              "              style=\"display:none;\">\n",
              "        \n",
              "  <svg xmlns=\"http://www.w3.org/2000/svg\" height=\"24px\"viewBox=\"0 0 24 24\"\n",
              "       width=\"24px\">\n",
              "    <path d=\"M0 0h24v24H0V0z\" fill=\"none\"/>\n",
              "    <path d=\"M18.56 5.44l.94 2.06.94-2.06 2.06-.94-2.06-.94-.94-2.06-.94 2.06-2.06.94zm-11 1L8.5 8.5l.94-2.06 2.06-.94-2.06-.94L8.5 2.5l-.94 2.06-2.06.94zm10 10l.94 2.06.94-2.06 2.06-.94-2.06-.94-.94-2.06-.94 2.06-2.06.94z\"/><path d=\"M17.41 7.96l-1.37-1.37c-.4-.4-.92-.59-1.43-.59-.52 0-1.04.2-1.43.59L10.3 9.45l-7.72 7.72c-.78.78-.78 2.05 0 2.83L4 21.41c.39.39.9.59 1.41.59.51 0 1.02-.2 1.41-.59l7.78-7.78 2.81-2.81c.8-.78.8-2.07 0-2.86zM5.41 20L4 18.59l7.72-7.72 1.47 1.35L5.41 20z\"/>\n",
              "  </svg>\n",
              "      </button>\n",
              "      \n",
              "  <style>\n",
              "    .colab-df-container {\n",
              "      display:flex;\n",
              "      flex-wrap:wrap;\n",
              "      gap: 12px;\n",
              "    }\n",
              "\n",
              "    .colab-df-convert {\n",
              "      background-color: #E8F0FE;\n",
              "      border: none;\n",
              "      border-radius: 50%;\n",
              "      cursor: pointer;\n",
              "      display: none;\n",
              "      fill: #1967D2;\n",
              "      height: 32px;\n",
              "      padding: 0 0 0 0;\n",
              "      width: 32px;\n",
              "    }\n",
              "\n",
              "    .colab-df-convert:hover {\n",
              "      background-color: #E2EBFA;\n",
              "      box-shadow: 0px 1px 2px rgba(60, 64, 67, 0.3), 0px 1px 3px 1px rgba(60, 64, 67, 0.15);\n",
              "      fill: #174EA6;\n",
              "    }\n",
              "\n",
              "    [theme=dark] .colab-df-convert {\n",
              "      background-color: #3B4455;\n",
              "      fill: #D2E3FC;\n",
              "    }\n",
              "\n",
              "    [theme=dark] .colab-df-convert:hover {\n",
              "      background-color: #434B5C;\n",
              "      box-shadow: 0px 1px 3px 1px rgba(0, 0, 0, 0.15);\n",
              "      filter: drop-shadow(0px 1px 2px rgba(0, 0, 0, 0.3));\n",
              "      fill: #FFFFFF;\n",
              "    }\n",
              "  </style>\n",
              "\n",
              "      <script>\n",
              "        const buttonEl =\n",
              "          document.querySelector('#df-3f7a4268-41e7-4bf1-98e3-8ef7f87d3ce5 button.colab-df-convert');\n",
              "        buttonEl.style.display =\n",
              "          google.colab.kernel.accessAllowed ? 'block' : 'none';\n",
              "\n",
              "        async function convertToInteractive(key) {\n",
              "          const element = document.querySelector('#df-3f7a4268-41e7-4bf1-98e3-8ef7f87d3ce5');\n",
              "          const dataTable =\n",
              "            await google.colab.kernel.invokeFunction('convertToInteractive',\n",
              "                                                     [key], {});\n",
              "          if (!dataTable) return;\n",
              "\n",
              "          const docLinkHtml = 'Like what you see? Visit the ' +\n",
              "            '<a target=\"_blank\" href=https://colab.research.google.com/notebooks/data_table.ipynb>data table notebook</a>'\n",
              "            + ' to learn more about interactive tables.';\n",
              "          element.innerHTML = '';\n",
              "          dataTable['output_type'] = 'display_data';\n",
              "          await google.colab.output.renderOutput(dataTable, element);\n",
              "          const docLink = document.createElement('div');\n",
              "          docLink.innerHTML = docLinkHtml;\n",
              "          element.appendChild(docLink);\n",
              "        }\n",
              "      </script>\n",
              "    </div>\n",
              "  </div>\n",
              "  "
            ]
          },
          "metadata": {},
          "execution_count": 7
        }
      ]
    },
    {
      "cell_type": "markdown",
      "source": [
        "## **Pipeline and Training**"
      ],
      "metadata": {
        "id": "2xfvhk-7gwW5"
      }
    },
    {
      "cell_type": "markdown",
      "source": [
        "# **Model 1: Linear Regression**"
      ],
      "metadata": {
        "id": "rWApu1vymGMo"
      }
    },
    {
      "cell_type": "code",
      "source": [
        "# Identify nominal features.\n",
        "nominal_features=['sex', 'smoker', 'region']"
      ],
      "metadata": {
        "id": "eSYZYxCJhR6T"
      },
      "execution_count": null,
      "outputs": []
    },
    {
      "cell_type": "code",
      "source": [
        "nominal_transformer=Pipeline(steps=[\n",
        "                  ('onehot', OneHotEncoder(sparse=False, drop='if_binary'))\n",
        "                  ])\n",
        "\n",
        "# Apply the OneHotEncoder function set above to the nominal features from the preset variable and pass through as-is any columns not included the the nominal feature variable.\n",
        "\n",
        "preprocessor=ColumnTransformer(transformers=[\n",
        "                  ('nominal', nominal_transformer, nominal_features)\n",
        "                  ], remainder='passthrough')   #Any column not specified by the transformers specified in the preprocessor will pass through, instead of being dropped.\n",
        "\n",
        "# Build the model using the sklearn pipeline.\n",
        "\n",
        "model1=Pipeline(steps=[\n",
        "                  ('preprocessor', preprocessor), \n",
        "                  ('scaler', StandardScaler()),\n",
        "                  ('regressor', LinearRegression())\n",
        "                  ])"
      ],
      "metadata": {
        "id": "nbhY6XDog4Ag"
      },
      "execution_count": null,
      "outputs": []
    },
    {
      "cell_type": "code",
      "source": [
        "# Fit the model\n",
        "\n",
        "model1.fit(X_train, y_train)"
      ],
      "metadata": {
        "colab": {
          "base_uri": "https://localhost:8080/"
        },
        "id": "sftGFN4bkOGx",
        "outputId": "147a2303-0199-402a-a400-c641d6457971"
      },
      "execution_count": null,
      "outputs": [
        {
          "output_type": "execute_result",
          "data": {
            "text/plain": [
              "Pipeline(steps=[('preprocessor',\n",
              "                 ColumnTransformer(remainder='passthrough',\n",
              "                                   transformers=[('nominal',\n",
              "                                                  Pipeline(steps=[('onehot',\n",
              "                                                                   OneHotEncoder(drop='if_binary',\n",
              "                                                                                 sparse=False))]),\n",
              "                                                  ['sex', 'smoker',\n",
              "                                                   'region'])])),\n",
              "                ('scaler', StandardScaler()),\n",
              "                ('regressor', LinearRegression())])"
            ]
          },
          "metadata": {},
          "execution_count": 10
        }
      ]
    },
    {
      "cell_type": "markdown",
      "source": [
        "**Results for Linear Regression Model**\n",
        "\n"
      ],
      "metadata": {
        "id": "_Vk8c4DHkbKm"
      }
    },
    {
      "cell_type": "code",
      "source": [
        "# A set of predictions\n",
        "\n",
        "y_pred1=model1.predict(X_test)"
      ],
      "metadata": {
        "id": "AHo6yp9HkcxJ"
      },
      "execution_count": null,
      "outputs": []
    },
    {
      "cell_type": "code",
      "source": [
        "y_pred1"
      ],
      "metadata": {
        "colab": {
          "base_uri": "https://localhost:8080/"
        },
        "id": "xcdSZJDukpA_",
        "outputId": "57c2e658-5cb3-4870-f21a-ba0752423078"
      },
      "execution_count": null,
      "outputs": [
        {
          "output_type": "execute_result",
          "data": {
            "text/plain": [
              "array([ 4.63106370e+03,  1.29030637e+04,  1.25590637e+04,  1.31532578e+04,\n",
              "        5.91795055e+02,  3.23612578e+04,  1.28005264e+04,  1.23190637e+04,\n",
              "        3.90306370e+03,  2.98230637e+04,  1.09670637e+04,  1.74245264e+04,\n",
              "        8.61652641e+03,  8.32779505e+03,  3.31906370e+03,  1.02965264e+04,\n",
              "        3.99906370e+03,  6.84125776e+03,  1.49357951e+04,  1.43750637e+04,\n",
              "        1.25430637e+04,  3.32012578e+04,  9.18306370e+03,  8.93506370e+03,\n",
              "        3.23906370e+03,  8.20779505e+03,  9.40125776e+03,  1.07910637e+04,\n",
              "        7.66452641e+03,  4.46306370e+03,  1.40557951e+04,  5.73652641e+03,\n",
              "        3.47052578e+04,  2.75110637e+04,  3.34492578e+04,  9.55906370e+03,\n",
              "        3.07590637e+04,  2.67699891e+04,  1.51670637e+04,  3.42157951e+04,\n",
              "        6.34452641e+03,  1.40790637e+04,  1.05452578e+04,  1.49517951e+04,\n",
              "        4.16052641e+03,  1.30390637e+04,  4.45579505e+03,  2.89910637e+04,\n",
              "        7.30306370e+03,  1.40099891e+04,  1.32150637e+04,  1.21765264e+04,\n",
              "        2.03106370e+03,  8.70525776e+03,  2.64717951e+04,  1.02870637e+04,\n",
              "        3.43692578e+04,  1.44950637e+04,  3.28052641e+03,  6.09506370e+03,\n",
              "        6.71906370e+03,  1.48950637e+04,  2.73197951e+04,  3.51906370e+03,\n",
              "        1.57430637e+04,  1.12397951e+04,  1.09932578e+04,  1.03757951e+04,\n",
              "        1.71979505e+03,  2.56950637e+04,  3.76892578e+04,  3.34957951e+04,\n",
              "        2.15906370e+03,  1.12172578e+04,  1.36630637e+04,  3.52157951e+04,\n",
              "        3.32779505e+03,  3.98306370e+03,  1.03030637e+04,  1.03845264e+04,\n",
              "        2.37950550e+01,  1.40245264e+04,  1.03437951e+04,  3.26306370e+03,\n",
              "        3.37597951e+04,  3.34165264e+04,  7.12779505e+03,  3.79445264e+04,\n",
              "        1.27845264e+04,  1.03365264e+04,  3.05590637e+04,  3.40972578e+04,\n",
              "        1.44972578e+04,  1.07837951e+04,  4.39063701e+02,  1.05190637e+04,\n",
              "        9.55979505e+03,  1.48485264e+04,  1.50310637e+04,  6.06452641e+03,\n",
              "        1.37030637e+04,  2.64950637e+04,  2.82652578e+04,  2.78310637e+04,\n",
              "        3.55190637e+04,  2.76310637e+04,  7.99063701e+02,  9.19179505e+03,\n",
              "        4.87179505e+03,  1.24630637e+04,  5.45506370e+03,  4.84052641e+03,\n",
              "        1.27106370e+03,  1.86172578e+04,  3.39979505e+03,  1.81506370e+03,\n",
              "        1.15067205e+04,  1.25910637e+04,  1.17299891e+04,  3.99906370e+03,\n",
              "        8.90306370e+03,  1.36819891e+04,  7.75979505e+03,  6.53506370e+03,\n",
              "        3.67685264e+04,  1.19692578e+04,  1.20492578e+04,  2.94332578e+04,\n",
              "        3.62965264e+04,  1.15205264e+04,  2.85750637e+04, -3.68204945e+02,\n",
              "        8.23252641e+03,  3.19117951e+04,  8.25506370e+03, -5.28936299e+02,\n",
              "        1.39906370e+03,  4.84706370e+03,  7.64706370e+03,  1.26870637e+04,\n",
              "        1.48310637e+04,  8.59325776e+03,  2.91205264e+04,  1.56790637e+04,\n",
              "        1.45445264e+04,  1.11350637e+04,  2.02379505e+03,  9.92925776e+03,\n",
              "        3.91179505e+03,  6.19252641e+03,  1.13837951e+04,  5.57652641e+03,\n",
              "        1.45445264e+04,  1.36317951e+04,  1.27190637e+04,  7.02306370e+03,\n",
              "        1.23277951e+04,  1.08477951e+04,  1.02477951e+04,  4.67106370e+03,\n",
              "        5.73506370e+03,  4.04485264e+04,  1.29517951e+04,  4.34379505e+03,\n",
              "        8.44925776e+03,  4.86306370e+03,  3.24957951e+04,  1.11277951e+04,\n",
              "        1.09270637e+04,  6.99906370e+03,  6.41652641e+03,  6.93506370e+03,\n",
              "        3.32950637e+04,  3.51750637e+04,  2.36706370e+03,  7.70379505e+03,\n",
              "        5.27979505e+03,  1.53292578e+04,  1.59906370e+03,  1.14485264e+04,\n",
              "        1.33750637e+04,  1.14550637e+04,  1.06390637e+04,  1.32637951e+04,\n",
              "        2.54379505e+03,  2.79190637e+04,  2.54306370e+03,  1.47677951e+04,\n",
              "        6.35106370e+03,  1.03307205e+04,  1.48485264e+04,  3.90005264e+04,\n",
              "        2.14306370e+03,  1.68779505e+03,  5.18452641e+03,  7.52706370e+03,\n",
              "        7.76198912e+03,  4.78306370e+03,  1.04659891e+04,  8.92779505e+03,\n",
              "        9.38379505e+03,  1.10405264e+04,  1.00972578e+04,  9.18452641e+03,\n",
              "        8.07252641e+03,  1.10306370e+03,  1.01357951e+04,  7.31179505e+03,\n",
              "        6.81506370e+03,  1.16630637e+04,  5.55106370e+03,  3.30637951e+04,\n",
              "        6.98598912e+03,  6.32852641e+03,  7.88852641e+03,  3.89925264e+04,\n",
              "        1.19110637e+04,  2.85852578e+04,  3.06306370e+03,  3.33285264e+04,\n",
              "        3.90306370e+03,  3.17910637e+04,  1.37685264e+04,  2.62525776e+03,\n",
              "        2.13506370e+03,  1.35906370e+03,  6.31106370e+03,  4.62306370e+03,\n",
              "        2.60070637e+04,  1.57110637e+04,  5.48052641e+03,  1.28092578e+04,\n",
              "        3.91125264e+04,  4.70525776e+03,  1.26005264e+04,  1.12710637e+04,\n",
              "        2.80725264e+04,  3.03106370e+03,  1.33677951e+04,  5.76779505e+03,\n",
              "        1.52077951e+04,  5.98306370e+03,  1.68397951e+04,  4.04706370e+03,\n",
              "        1.21670637e+04,  3.47292578e+04,  1.05925264e+04,  1.05597951e+04,\n",
              "        4.99179505e+03,  1.67270637e+04,  1.44237951e+04,  5.52779505e+03,\n",
              "        1.10790637e+04,  1.23052578e+04,  4.76706370e+03,  7.39106370e+03,\n",
              "        2.81270637e+04,  3.25197951e+04, -2.64936299e+02,  4.04957951e+04,\n",
              "        9.33652641e+03,  7.77579505e+03,  1.06717951e+04,  3.37125264e+04,\n",
              "        3.63590637e+04,  3.68165264e+04,  5.24706370e+03,  6.23906370e+03,\n",
              "        1.05750637e+04,  8.35979505e+03,  4.24706370e+03,  1.15030637e+04,\n",
              "        1.03277951e+04,  9.94525776e+03,  9.56852641e+03,  4.01037951e+04,\n",
              "        8.35252641e+03,  4.77579505e+03,  2.66230637e+04,  2.81845264e+04,\n",
              "        1.46306370e+03,  1.16965264e+04,  6.22452641e+03,  4.19979505e+03,\n",
              "        1.06092578e+04,  1.15365264e+04,  1.53685264e+04,  1.15830637e+04,\n",
              "        4.12706370e+03,  7.65579505e+03,  1.17430637e+04,  1.27997951e+04,\n",
              "        1.68550637e+04,  1.10310637e+04,  6.03906370e+03,  3.21990637e+04,\n",
              "        1.01750637e+04,  6.48198912e+03,  2.84706370e+03,  7.60779505e+03,\n",
              "        6.69579505e+03,  6.59325776e+03,  6.34306370e+03,  9.11179505e+03,\n",
              "        7.01652641e+03,  3.12077951e+04,  6.05506370e+03,  4.24052641e+03,\n",
              "        1.92706370e+03,  4.36852641e+03,  8.27252641e+03,  3.00706370e+03,\n",
              "        2.75990637e+04,  6.74306370e+03,  6.31906370e+03,  1.50230637e+04,\n",
              "        9.99906370e+03,  1.15037951e+04,  1.41750637e+04,  1.54259891e+04,\n",
              "        1.49590637e+04,  2.35525264e+04,  5.14379505e+03,  9.86379505e+03,\n",
              "        1.04790637e+04,  1.00965264e+04,  1.31532578e+04,  6.48052641e+03,\n",
              "        3.70452641e+03,  3.27990637e+04,  1.43837951e+04,  1.46470637e+04,\n",
              "        1.20470637e+04,  3.57506370e+03,  1.00805264e+04,  3.42306370e+03,\n",
              "        2.99252641e+03,  1.09990637e+04,  1.54252578e+04,  1.33350637e+04,\n",
              "        3.52390637e+04,  3.80706370e+03,  3.39277951e+04,  2.64852641e+03,\n",
              "        8.72052641e+03,  2.94565264e+04,  5.75179505e+03,  2.08779505e+03,\n",
              "        7.11252641e+03,  1.38790637e+04,  5.99063701e+02,  6.50306370e+03,\n",
              "        8.81652641e+03,  3.77510637e+04,  2.59517951e+04,  9.79398912e+03,\n",
              "        1.16230637e+04,  3.78470637e+04,  1.47685264e+04,  3.55106370e+03,\n",
              "        5.69579505e+03,  9.15252641e+03,  1.68005264e+04,  1.00725264e+04,\n",
              "        7.83979505e+03,  1.04805264e+04,  3.09597951e+04,  3.18165264e+04,\n",
              "        6.78452641e+03,  3.16710637e+04,  3.43350637e+04,  1.44070637e+04,\n",
              "        8.82306370e+03,  1.04150637e+04,  5.07325776e+03,  1.21772578e+04,\n",
              "        1.47925264e+04,  4.33506370e+03,  1.30572578e+04,  1.30950637e+04,\n",
              "        1.04245264e+04,  2.80790637e+04,  2.71670637e+04,  3.31692578e+04,\n",
              "        1.26477951e+04,  1.46252578e+04,  1.71510637e+04,  4.35906370e+03,\n",
              "        9.46379505e+03,  9.22379505e+03,  3.19030637e+04,  3.90332578e+04,\n",
              "        1.13997951e+04,  3.55437951e+04,  2.78630637e+04,  3.23517951e+04,\n",
              "        9.12852641e+03,  1.62870637e+04,  3.83906370e+03,  3.31906370e+03,\n",
              "        2.69910637e+04,  9.47179505e+03])"
            ]
          },
          "metadata": {},
          "execution_count": 12
        }
      ]
    },
    {
      "cell_type": "code",
      "source": [
        "y_test"
      ],
      "metadata": {
        "colab": {
          "base_uri": "https://localhost:8080/"
        },
        "id": "LxjA0OYskq9g",
        "outputId": "2264bdb6-1b29-4386-d631-1bfb564ff254"
      },
      "execution_count": null,
      "outputs": [
        {
          "output_type": "execute_result",
          "data": {
            "text/plain": [
              "559      1646.42970\n",
              "1087    11353.22760\n",
              "1020     8798.59300\n",
              "460     10381.47870\n",
              "802      2103.08000\n",
              "           ...     \n",
              "323     11566.30055\n",
              "1268     1880.48700\n",
              "134      2457.21115\n",
              "1274    17043.34140\n",
              "876     26140.36030\n",
              "Name: charges, Length: 402, dtype: float64"
            ]
          },
          "metadata": {},
          "execution_count": 13
        }
      ]
    },
    {
      "cell_type": "code",
      "source": [
        "# Compute the Root Mean Squared Error RMSE and see the average error in $ between real and estimated values (insurance premium).\n",
        "\n",
        "rmse1=np.sqrt(np.mean((y_test-y_pred1)**2))"
      ],
      "metadata": {
        "colab": {
          "base_uri": "https://localhost:8080/"
        },
        "id": "xpq_GYssks_k",
        "outputId": "ecc8054e-0dc1-4f7a-8d6b-e181cfc3fb73"
      },
      "execution_count": null,
      "outputs": [
        {
          "output_type": "execute_result",
          "data": {
            "text/plain": [
              "6061.727159628868"
            ]
          },
          "metadata": {},
          "execution_count": 14
        }
      ]
    },
    {
      "cell_type": "code",
      "source": [
        "y_test.describe()"
      ],
      "metadata": {
        "colab": {
          "base_uri": "https://localhost:8080/"
        },
        "id": "5XHUUkXXlq4c",
        "outputId": "4c863983-525a-4874-844f-97df0796a4af"
      },
      "execution_count": null,
      "outputs": [
        {
          "output_type": "execute_result",
          "data": {
            "text/plain": [
              "count      402.000000\n",
              "mean     13255.808817\n",
              "std      11919.315462\n",
              "min       1131.506600\n",
              "25%       4936.174925\n",
              "50%       9830.956600\n",
              "75%      16694.951712\n",
              "max      60021.398970\n",
              "Name: charges, dtype: float64"
            ]
          },
          "metadata": {},
          "execution_count": 15
        }
      ]
    },
    {
      "cell_type": "markdown",
      "source": [
        "**Model 2: Random Forest**"
      ],
      "metadata": {
        "id": "uZEEFGT2mMDR"
      }
    },
    {
      "cell_type": "code",
      "source": [
        "model2=Pipeline(steps=[\n",
        "                  ('preprocessor', preprocessor), \n",
        "                  ('scaler', StandardScaler()),\n",
        "                  ('regressor', RandomForestRegressor())\n",
        "                  ])"
      ],
      "metadata": {
        "id": "-btiE6_EmLIa"
      },
      "execution_count": null,
      "outputs": []
    },
    {
      "cell_type": "code",
      "source": [
        "# Fit the model\n",
        "\n",
        "model2.fit(X_train, y_train)"
      ],
      "metadata": {
        "colab": {
          "base_uri": "https://localhost:8080/"
        },
        "id": "Ta-3DOqAmre5",
        "outputId": "5602ee34-7fa4-49d4-cd92-60ba5e526aad"
      },
      "execution_count": null,
      "outputs": [
        {
          "output_type": "execute_result",
          "data": {
            "text/plain": [
              "Pipeline(steps=[('preprocessor',\n",
              "                 ColumnTransformer(remainder='passthrough',\n",
              "                                   transformers=[('nominal',\n",
              "                                                  Pipeline(steps=[('onehot',\n",
              "                                                                   OneHotEncoder(drop='if_binary',\n",
              "                                                                                 sparse=False))]),\n",
              "                                                  ['sex', 'smoker',\n",
              "                                                   'region'])])),\n",
              "                ('scaler', StandardScaler()),\n",
              "                ('regressor', RandomForestRegressor())])"
            ]
          },
          "metadata": {},
          "execution_count": 17
        }
      ]
    },
    {
      "cell_type": "markdown",
      "source": [
        "**Results for Random Forest Model**"
      ],
      "metadata": {
        "id": "q126FWyAm2_N"
      }
    },
    {
      "cell_type": "code",
      "source": [
        "# Prediction set\n",
        "\n",
        "y_pred2=model2.predict(X_test)"
      ],
      "metadata": {
        "id": "fUyuUg77nDpA"
      },
      "execution_count": null,
      "outputs": []
    },
    {
      "cell_type": "code",
      "source": [
        "y_pred2"
      ],
      "metadata": {
        "colab": {
          "base_uri": "https://localhost:8080/"
        },
        "id": "wRzEUMOenLSd",
        "outputId": "e6d5b95d-440a-4545-c1fd-8ff763413072"
      },
      "execution_count": null,
      "outputs": [
        {
          "output_type": "execute_result",
          "data": {
            "text/plain": [
              "array([ 1945.8761953 , 12681.3329759 ,  8956.3405665 , 10818.1827208 ,\n",
              "        2118.0337475 , 39995.5948542 ,  9762.3532666 , 11654.5384965 ,\n",
              "        4240.3170239 , 20259.6300188 , 17515.8753955 , 14404.1800152 ,\n",
              "        6870.0338565 ,  6970.4057745 ,  1799.455     , 10192.2305516 ,\n",
              "        5203.7566295 ,  6547.2814329 , 15987.8555325 , 13612.512978  ,\n",
              "       10030.0485579 , 40393.2824149 ,  9918.4453164 ,  9076.8350693 ,\n",
              "       14026.52375633,  6706.9916285 ,  8923.6659612 ,  8989.8192597 ,\n",
              "        7758.72457   ,  4083.082414  , 12679.8251618 ,  6113.7864093 ,\n",
              "       25846.3703062 , 35219.8111425 , 25946.9543845 , 15576.494855  ,\n",
              "       38978.8332149 , 17385.6768175 , 15351.732309  , 44292.4638134 ,\n",
              "        7188.504706  , 11798.711329  , 11339.5717122 , 19770.0484462 ,\n",
              "        6581.145381  , 13206.0395139 ,  2007.310068  , 34634.012037  ,\n",
              "       10640.8617035 , 17849.3843599 , 16248.6736009 , 15517.9501984 ,\n",
              "        5453.0639352 , 11768.7709082 , 17403.5454568 ,  5753.4844981 ,\n",
              "       40698.467178  , 13096.6533781 , 10807.6177874 ,  1301.751706  ,\n",
              "        3621.5220727 , 13228.4965095 , 22195.5725328 ,  5996.5861413 ,\n",
              "       15425.7360206 , 10259.4983962 , 10370.2047569 , 13264.1237003 ,\n",
              "        3161.3767878 , 16073.1591891 , 44711.3526675 , 39735.6942239 ,\n",
              "        2327.26811007, 15037.8810493 , 13580.9526236 , 41013.3398841 ,\n",
              "        5761.505009  ,  4015.702239  , 11994.3222532 , 16413.6442374 ,\n",
              "        4295.2448794 , 13578.3944455 , 16362.1433704 ,  5387.893198  ,\n",
              "       39209.708727  , 40357.174071  ,  6980.2211705 , 46855.8604457 ,\n",
              "       13578.1146164 ,  7547.580245  , 20350.2213185 , 24731.4177926 ,\n",
              "       16931.3951559 ,  9724.0961783 ,  1686.3536475 , 20849.7179302 ,\n",
              "       12136.9127771 , 16863.6352148 , 13262.682981  , 10660.6995947 ,\n",
              "       11483.6657975 , 18301.4659774 , 19992.6432583 , 36429.4959742 ,\n",
              "       27620.28529   , 21236.2907876 ,  1927.9476015 ,  9321.1408771 ,\n",
              "        2969.366125  , 15269.6928033 ,  4567.415337  ,  5500.6860334 ,\n",
              "        1862.440555  , 18189.7073528 ,  3478.4701745 ,  2200.63322529,\n",
              "        6861.6561201 , 17451.0927759 , 14778.9308156 ,  2125.291423  ,\n",
              "       11112.9189871 , 15471.232007  ,  5942.1905595 ,  9302.8969853 ,\n",
              "       43713.9083983 , 11605.5535378 , 16982.4120144 , 20255.9614229 ,\n",
              "       44020.3710158 ,  8243.6513687 , 37377.9414925 ,  1683.9778765 ,\n",
              "        6931.3358615 , 43940.3592721 , 10262.1648405 ,  1709.731254  ,\n",
              "        1888.9071665 ,  9617.955391  , 13910.7951901 , 10930.1755321 ,\n",
              "       14087.4801337 ,  5983.936927  , 19999.0558306 , 14311.7131225 ,\n",
              "       14936.0620196 , 13210.4313298 ,  3165.26656177,  7636.532993  ,\n",
              "        2127.549066  ,  7339.3074125 ,  7976.3285176 ,  6560.6833582 ,\n",
              "       18257.8795233 , 12936.1360785 ,  9542.7541953 ,  6097.1930175 ,\n",
              "       12042.8191242 ,  9834.5349206 ,  9757.6330054 ,  3631.0513374 ,\n",
              "        4328.164263  , 47226.273582  , 12653.6117501 ,  4323.4428035 ,\n",
              "        6561.092969  ,  2090.8575283 , 40611.1967798 , 15172.6215967 ,\n",
              "       12114.2638291 ,  5528.8525475 ,  6320.4980759 ,  9687.6114057 ,\n",
              "       28323.2011475 , 27468.7703809 ,  3664.4190784 ,  6840.0640475 ,\n",
              "        3255.4634962 , 16090.6959389 , 10125.8269404 ,  7617.9704893 ,\n",
              "       13279.2833555 , 14180.8243687 ,  9606.1398981 , 17158.9350249 ,\n",
              "        3861.4694023 , 18923.498783  ,  3598.2860199 ,  9732.2025404 ,\n",
              "        8485.9042095 , 10745.4820849 , 17832.1358267 , 46034.936362  ,\n",
              "        4312.549479  ,  3161.6079828 ,  6768.923215  ,  9981.8868095 ,\n",
              "        7027.2312325 ,  2336.7926505 , 19947.7160296 ,  8686.1204276 ,\n",
              "        6601.3186735 ,  7803.8216971 , 13539.3943296 ,  6902.2311565 ,\n",
              "        6813.1379565 ,  2081.858257  ,  6800.5238283 ,  7009.3966275 ,\n",
              "        5018.661002  , 11596.9149245 ,  4142.493397  , 24614.1668525 ,\n",
              "        5278.4191099 ,  5312.0654218 ,  5383.5872866 , 47518.8829691 ,\n",
              "       13716.3244784 , 34858.4820618 ,  2617.1084605 , 51386.4564723 ,\n",
              "        4281.55689686, 26105.0389286 , 15398.5185881 ,  7943.92624   ,\n",
              "        2333.8465705 ,  5454.640145  ,  4352.8383746 ,  8611.081007  ,\n",
              "       17925.2140524 , 14054.0444546 , 19543.1966209 , 14359.4554656 ,\n",
              "       45801.6249725 , 12387.6957771 , 14948.8092503 , 15848.3590934 ,\n",
              "       18142.603226  ,  2080.9654384 ,  9729.2215276 ,  4937.0682288 ,\n",
              "        8784.5308894 ,  2141.2507586 , 15866.0112553 ,  2286.4719151 ,\n",
              "       11120.2726311 , 25493.9983523 ,  8105.9189795 , 10826.8402163 ,\n",
              "        3505.1301227 , 14533.1517685 , 14961.5216422 ,  4683.9711246 ,\n",
              "       19639.4099475 , 11510.9301485 ,  4013.92847443,  3532.4035021 ,\n",
              "       35579.4254623 , 22794.3140404 ,  1762.8152059 , 46909.0134379 ,\n",
              "        8113.166091  ,  6986.244051  ,  8741.8393603 , 41240.1521896 ,\n",
              "       46777.0481138 , 45159.1630411 ,  2113.999666  ,  6112.2460035 ,\n",
              "       15582.8043292 , 12551.5485366 ,  1993.139566  , 16080.6682004 ,\n",
              "        8177.5506909 ,  8002.5948495 ,  7018.151002  , 47436.5506894 ,\n",
              "        7933.7502488 ,  8357.616298  , 18040.4201436 , 18844.625044  ,\n",
              "        4565.2651271 ,  9504.2687037 ,  6541.4530057 ,  2922.1076115 ,\n",
              "        9741.1887528 , 11711.0458329 , 16153.9749098 , 10956.4550131 ,\n",
              "        5769.1414258 ,  6223.3647928 , 13818.8744643 , 14816.2120256 ,\n",
              "       14346.6798166 , 15699.8066397 ,  5069.9442639 , 29304.1716394 ,\n",
              "        7103.2564463 ,  7223.0740683 ,  6241.133019  ,  7553.7267975 ,\n",
              "        5950.5471688 ,  9008.8208997 ,  7493.8300396 ,  6705.4387017 ,\n",
              "        6395.9992077 , 20870.4183579 ,  5131.05062   ,  6544.8858852 ,\n",
              "        6851.3464244 ,  7865.4579586 ,  5083.5485695 ,  2214.545216  ,\n",
              "       18910.7726975 ,  3565.0949902 ,  4731.5382465 , 14099.745363  ,\n",
              "       14506.6427616 ,  9167.630619  , 14401.6467125 , 12686.5037789 ,\n",
              "       11450.6948794 , 16287.3295168 ,  5594.5842403 ,  7558.7119235 ,\n",
              "       11843.4124055 ,  5220.9337453 , 14335.7721139 ,  7267.8858503 ,\n",
              "        9775.5018284 , 29280.486589  , 12583.2558807 , 14755.5843251 ,\n",
              "       10701.231195  ,  2890.46334549,  8717.045044  ,  3648.2773733 ,\n",
              "        7073.0438905 ,  6979.1291207 , 19338.7226202 , 14790.9161562 ,\n",
              "       42761.6176857 ,  2072.458525  , 40801.2439568 ,  5411.009623  ,\n",
              "        7531.281334  , 36150.8230048 ,  4352.0278235 ,  3169.6609048 ,\n",
              "        4478.6805763 , 17721.6730348 ,  9444.0259159 ,  3211.4065794 ,\n",
              "       13908.4449824 , 49985.5195205 , 16807.1198512 , 11037.0656588 ,\n",
              "       15388.8134002 , 28935.2547575 , 10605.4431202 ,  5369.5854981 ,\n",
              "       12611.7975642 , 11937.210933  , 12633.2395899 ,  9210.228639  ,\n",
              "        7608.1272756 ,  7914.9053824 , 38120.3711954 , 24506.4693914 ,\n",
              "        7120.1364545 , 25667.761423  , 27178.3351772 , 14584.5855512 ,\n",
              "        6531.5066324 ,  9503.38123   ,  8135.3930553 , 10866.0878482 ,\n",
              "       15934.7666475 ,  4683.00193378,  8429.0850665 , 12001.2303811 ,\n",
              "        7403.721165  , 19934.6934208 , 18655.050813  , 25112.9944337 ,\n",
              "       10836.9422597 , 16337.1922547 , 13715.9030275 ,  4259.5187658 ,\n",
              "        7350.9454561 , 13088.3145055 , 38357.6458006 , 45893.3821646 ,\n",
              "        8985.2108316 , 42691.1528735 , 36429.4959742 , 21721.7012166 ,\n",
              "       10798.8199512 , 16683.3028782 ,  6349.9681785 ,  3199.77696485,\n",
              "       17964.2103794 , 10512.0948871 ])"
            ]
          },
          "metadata": {},
          "execution_count": 20
        }
      ]
    },
    {
      "cell_type": "code",
      "source": [
        "# Compute the Root Mean Squared Error RMSE and see the average error in $ between real and estimated values (insurance premium).\n",
        "\n",
        "rmse2=np.sqrt(np.mean((y_test-y_pred2)**2))"
      ],
      "metadata": {
        "id": "OHmHoRgWnSxD"
      },
      "execution_count": null,
      "outputs": []
    },
    {
      "cell_type": "code",
      "source": [
        "# Base line model\n",
        "np.sum((y_test-y_test.mean())**2)"
      ],
      "metadata": {
        "colab": {
          "base_uri": "https://localhost:8080/"
        },
        "id": "NrWjFMCingFM",
        "outputId": "46969af3-1464-41fb-e812-d068bd08252b"
      },
      "execution_count": null,
      "outputs": [
        {
          "output_type": "execute_result",
          "data": {
            "text/plain": [
              "56970102513.23877"
            ]
          },
          "metadata": {},
          "execution_count": 25
        }
      ]
    },
    {
      "cell_type": "code",
      "source": [
        "# Our model\n",
        "np.sum((y_test - y_pred2)**2)"
      ],
      "metadata": {
        "colab": {
          "base_uri": "https://localhost:8080/"
        },
        "id": "SjcXNbIkoIv_",
        "outputId": "8c09b7f2-b8ae-4f0b-d129-4814ae2a00d1"
      },
      "execution_count": null,
      "outputs": [
        {
          "output_type": "execute_result",
          "data": {
            "text/plain": [
              "9394934917.070051"
            ]
          },
          "metadata": {},
          "execution_count": 27
        }
      ]
    },
    {
      "cell_type": "code",
      "source": [
        "# R_squared_score\n",
        "R2 = 1- (np.sum((y_test - y_pred2)**2)/np.sum((y_test-y_test.mean())**2))\n",
        "R2"
      ],
      "metadata": {
        "colab": {
          "base_uri": "https://localhost:8080/"
        },
        "id": "XDCSfvLRoaHW",
        "outputId": "bba33e0a-d7d3-4ac6-838f-36410d946493"
      },
      "execution_count": null,
      "outputs": [
        {
          "output_type": "execute_result",
          "data": {
            "text/plain": [
              "0.8350900822955892"
            ]
          },
          "metadata": {},
          "execution_count": 32
        }
      ]
    },
    {
      "cell_type": "code",
      "source": [
        "print(\"RMSE': {:.2f}\".format(rmse2))\n",
        "print(\"R^2': {:.5f}\".format(R2))\n"
      ],
      "metadata": {
        "colab": {
          "base_uri": "https://localhost:8080/"
        },
        "id": "oKLvHRY6pUBV",
        "outputId": "ca0134c8-e4da-497c-9796-d6156b056f24"
      },
      "execution_count": null,
      "outputs": [
        {
          "output_type": "stream",
          "name": "stdout",
          "text": [
            "RMSE': 4834.30\n",
            "R^2': 0.83509\n"
          ]
        }
      ]
    },
    {
      "cell_type": "markdown",
      "source": [
        "### **Interactive widgets**"
      ],
      "metadata": {
        "id": "_zc1YQAWp3gh"
      }
    },
    {
      "cell_type": "code",
      "source": [
        "# Display distinct values for all object columns in the dataset\n",
        "\n",
        "{column: list(X_train[column].unique()) for column in X_train.select_dtypes('object').columns}"
      ],
      "metadata": {
        "colab": {
          "base_uri": "https://localhost:8080/"
        },
        "id": "gMjrO3aDrKV7",
        "outputId": "40e4bf59-ab75-44fc-9e7e-3c3407169825"
      },
      "execution_count": null,
      "outputs": [
        {
          "output_type": "execute_result",
          "data": {
            "text/plain": [
              "{'region': ['northwest', 'southwest', 'northeast', 'southeast'],\n",
              " 'sex': ['male', 'female'],\n",
              " 'smoker': ['no', 'yes']}"
            ]
          },
          "metadata": {},
          "execution_count": 43
        }
      ]
    },
    {
      "cell_type": "code",
      "source": [
        "X_train.describe()"
      ],
      "metadata": {
        "colab": {
          "base_uri": "https://localhost:8080/",
          "height": 300
        },
        "id": "513PknPVrAkY",
        "outputId": "4780e8c5-1f92-4144-ac5d-2c73e34190a0"
      },
      "execution_count": null,
      "outputs": [
        {
          "output_type": "execute_result",
          "data": {
            "text/plain": [
              "              age         bmi    children\n",
              "count  936.000000  936.000000  936.000000\n",
              "mean    38.822650   30.682185    1.104701\n",
              "std     14.029097    6.087997    1.222664\n",
              "min     18.000000   15.960000    0.000000\n",
              "25%     26.000000   26.272500    0.000000\n",
              "50%     38.000000   30.495000    1.000000\n",
              "75%     51.000000   34.717500    2.000000\n",
              "max     64.000000   53.130000    5.000000"
            ],
            "text/html": [
              "\n",
              "  <div id=\"df-9865670f-c5a6-449b-838d-64452c926183\">\n",
              "    <div class=\"colab-df-container\">\n",
              "      <div>\n",
              "<style scoped>\n",
              "    .dataframe tbody tr th:only-of-type {\n",
              "        vertical-align: middle;\n",
              "    }\n",
              "\n",
              "    .dataframe tbody tr th {\n",
              "        vertical-align: top;\n",
              "    }\n",
              "\n",
              "    .dataframe thead th {\n",
              "        text-align: right;\n",
              "    }\n",
              "</style>\n",
              "<table border=\"1\" class=\"dataframe\">\n",
              "  <thead>\n",
              "    <tr style=\"text-align: right;\">\n",
              "      <th></th>\n",
              "      <th>age</th>\n",
              "      <th>bmi</th>\n",
              "      <th>children</th>\n",
              "    </tr>\n",
              "  </thead>\n",
              "  <tbody>\n",
              "    <tr>\n",
              "      <th>count</th>\n",
              "      <td>936.000000</td>\n",
              "      <td>936.000000</td>\n",
              "      <td>936.000000</td>\n",
              "    </tr>\n",
              "    <tr>\n",
              "      <th>mean</th>\n",
              "      <td>38.822650</td>\n",
              "      <td>30.682185</td>\n",
              "      <td>1.104701</td>\n",
              "    </tr>\n",
              "    <tr>\n",
              "      <th>std</th>\n",
              "      <td>14.029097</td>\n",
              "      <td>6.087997</td>\n",
              "      <td>1.222664</td>\n",
              "    </tr>\n",
              "    <tr>\n",
              "      <th>min</th>\n",
              "      <td>18.000000</td>\n",
              "      <td>15.960000</td>\n",
              "      <td>0.000000</td>\n",
              "    </tr>\n",
              "    <tr>\n",
              "      <th>25%</th>\n",
              "      <td>26.000000</td>\n",
              "      <td>26.272500</td>\n",
              "      <td>0.000000</td>\n",
              "    </tr>\n",
              "    <tr>\n",
              "      <th>50%</th>\n",
              "      <td>38.000000</td>\n",
              "      <td>30.495000</td>\n",
              "      <td>1.000000</td>\n",
              "    </tr>\n",
              "    <tr>\n",
              "      <th>75%</th>\n",
              "      <td>51.000000</td>\n",
              "      <td>34.717500</td>\n",
              "      <td>2.000000</td>\n",
              "    </tr>\n",
              "    <tr>\n",
              "      <th>max</th>\n",
              "      <td>64.000000</td>\n",
              "      <td>53.130000</td>\n",
              "      <td>5.000000</td>\n",
              "    </tr>\n",
              "  </tbody>\n",
              "</table>\n",
              "</div>\n",
              "      <button class=\"colab-df-convert\" onclick=\"convertToInteractive('df-9865670f-c5a6-449b-838d-64452c926183')\"\n",
              "              title=\"Convert this dataframe to an interactive table.\"\n",
              "              style=\"display:none;\">\n",
              "        \n",
              "  <svg xmlns=\"http://www.w3.org/2000/svg\" height=\"24px\"viewBox=\"0 0 24 24\"\n",
              "       width=\"24px\">\n",
              "    <path d=\"M0 0h24v24H0V0z\" fill=\"none\"/>\n",
              "    <path d=\"M18.56 5.44l.94 2.06.94-2.06 2.06-.94-2.06-.94-.94-2.06-.94 2.06-2.06.94zm-11 1L8.5 8.5l.94-2.06 2.06-.94-2.06-.94L8.5 2.5l-.94 2.06-2.06.94zm10 10l.94 2.06.94-2.06 2.06-.94-2.06-.94-.94-2.06-.94 2.06-2.06.94z\"/><path d=\"M17.41 7.96l-1.37-1.37c-.4-.4-.92-.59-1.43-.59-.52 0-1.04.2-1.43.59L10.3 9.45l-7.72 7.72c-.78.78-.78 2.05 0 2.83L4 21.41c.39.39.9.59 1.41.59.51 0 1.02-.2 1.41-.59l7.78-7.78 2.81-2.81c.8-.78.8-2.07 0-2.86zM5.41 20L4 18.59l7.72-7.72 1.47 1.35L5.41 20z\"/>\n",
              "  </svg>\n",
              "      </button>\n",
              "      \n",
              "  <style>\n",
              "    .colab-df-container {\n",
              "      display:flex;\n",
              "      flex-wrap:wrap;\n",
              "      gap: 12px;\n",
              "    }\n",
              "\n",
              "    .colab-df-convert {\n",
              "      background-color: #E8F0FE;\n",
              "      border: none;\n",
              "      border-radius: 50%;\n",
              "      cursor: pointer;\n",
              "      display: none;\n",
              "      fill: #1967D2;\n",
              "      height: 32px;\n",
              "      padding: 0 0 0 0;\n",
              "      width: 32px;\n",
              "    }\n",
              "\n",
              "    .colab-df-convert:hover {\n",
              "      background-color: #E2EBFA;\n",
              "      box-shadow: 0px 1px 2px rgba(60, 64, 67, 0.3), 0px 1px 3px 1px rgba(60, 64, 67, 0.15);\n",
              "      fill: #174EA6;\n",
              "    }\n",
              "\n",
              "    [theme=dark] .colab-df-convert {\n",
              "      background-color: #3B4455;\n",
              "      fill: #D2E3FC;\n",
              "    }\n",
              "\n",
              "    [theme=dark] .colab-df-convert:hover {\n",
              "      background-color: #434B5C;\n",
              "      box-shadow: 0px 1px 3px 1px rgba(0, 0, 0, 0.15);\n",
              "      filter: drop-shadow(0px 1px 2px rgba(0, 0, 0, 0.3));\n",
              "      fill: #FFFFFF;\n",
              "    }\n",
              "  </style>\n",
              "\n",
              "      <script>\n",
              "        const buttonEl =\n",
              "          document.querySelector('#df-9865670f-c5a6-449b-838d-64452c926183 button.colab-df-convert');\n",
              "        buttonEl.style.display =\n",
              "          google.colab.kernel.accessAllowed ? 'block' : 'none';\n",
              "\n",
              "        async function convertToInteractive(key) {\n",
              "          const element = document.querySelector('#df-9865670f-c5a6-449b-838d-64452c926183');\n",
              "          const dataTable =\n",
              "            await google.colab.kernel.invokeFunction('convertToInteractive',\n",
              "                                                     [key], {});\n",
              "          if (!dataTable) return;\n",
              "\n",
              "          const docLinkHtml = 'Like what you see? Visit the ' +\n",
              "            '<a target=\"_blank\" href=https://colab.research.google.com/notebooks/data_table.ipynb>data table notebook</a>'\n",
              "            + ' to learn more about interactive tables.';\n",
              "          element.innerHTML = '';\n",
              "          dataTable['output_type'] = 'display_data';\n",
              "          await google.colab.output.renderOutput(dataTable, element);\n",
              "          const docLink = document.createElement('div');\n",
              "          docLink.innerHTML = docLinkHtml;\n",
              "          element.appendChild(docLink);\n",
              "        }\n",
              "      </script>\n",
              "    </div>\n",
              "  </div>\n",
              "  "
            ]
          },
          "metadata": {},
          "execution_count": 41
        }
      ]
    },
    {
      "cell_type": "markdown",
      "source": [
        "**Widgets for numerical values**"
      ],
      "metadata": {
        "id": "MXyPGRjgvJcz"
      }
    },
    {
      "cell_type": "code",
      "source": [
        "# Age slider widget\n",
        "\n",
        "age_widget=widgets.IntSlider(\n",
        "          value=38, #mean\n",
        "          min=18, #min\n",
        "          max=64, #max\n",
        "          steps=1, \n",
        "          description='Age:'\n",
        "      )"
      ],
      "metadata": {
        "id": "12LmNcfFqFKQ"
      },
      "execution_count": null,
      "outputs": []
    },
    {
      "cell_type": "code",
      "source": [
        "# BMI slider widget\n",
        "\n",
        "bmi_widget=widgets.IntSlider(\n",
        "          value=30, #mean\n",
        "          min=15, #min\n",
        "          max=54, #max\n",
        "          steps=0.01, \n",
        "          description='BMI:'\n",
        "      )"
      ],
      "metadata": {
        "id": "3jWU9UQOusol"
      },
      "execution_count": null,
      "outputs": []
    },
    {
      "cell_type": "code",
      "source": [
        "# Children slider widget\n",
        "\n",
        "children_widget=widgets.IntSlider(\n",
        "                value=1, #mean\n",
        "                min=0, #min\n",
        "                max=5, #max\n",
        "                steps=1, \n",
        "                description='Children:'\n",
        "                )"
      ],
      "metadata": {
        "id": "MuaC5n3Mu65w"
      },
      "execution_count": null,
      "outputs": []
    },
    {
      "cell_type": "markdown",
      "source": [
        "**Widgets for nominal variables**"
      ],
      "metadata": {
        "id": "S0vgm_TlvMqY"
      }
    },
    {
      "cell_type": "code",
      "source": [
        "# Sex toggle widget\n",
        "\n",
        "sex_widget=widgets.ToggleButtons(\n",
        "          options=['male', 'female'],\n",
        "          description='Sex:'\n",
        "      )"
      ],
      "metadata": {
        "id": "_-BPZKigq5BN"
      },
      "execution_count": null,
      "outputs": []
    },
    {
      "cell_type": "code",
      "source": [
        "# Smoker toggle widget\n",
        "\n",
        "smoker_widget=widgets.ToggleButtons(\n",
        "              options=['no', 'yes'],\n",
        "              description='Smoker:'\n",
        "          )"
      ],
      "metadata": {
        "id": "rGWgoBnLvfD3"
      },
      "execution_count": null,
      "outputs": []
    },
    {
      "cell_type": "code",
      "source": [
        "# Region dropdown widget\n",
        "\n",
        "region_widget=widgets.Dropdown(\n",
        "              options=['northeast', 'northwest','southeast', 'outhwest'],\n",
        "              description='Region:'\n",
        "          )"
      ],
      "metadata": {
        "id": "WFbz0-rSvik_"
      },
      "execution_count": null,
      "outputs": []
    },
    {
      "cell_type": "code",
      "source": [
        "display(age_widget, BMI_widget, children_widget, sex_widget, smoker_widget, region_widget)"
      ],
      "metadata": {
        "colab": {
          "base_uri": "https://localhost:8080/",
          "height": 201,
          "referenced_widgets": [
            "6f94ca25d1f040b8bdf65d78712ae2ce",
            "7dd97e9e12774b5380897a2651105bb6",
            "68b70e36266a4bbb883ac672a15e0914",
            "0228f851b4b24cd4824f65f6a357762e",
            "9898df14f0b14c9983ca213a9ce187af",
            "859cf5d5abfe475f8f800609ac9d2b39",
            "f1b95f263ef040c4b7670ebf19ca3b0d",
            "2a01610085294f17894abfe2a3455614",
            "4c4fb14ab039414498f3206974aa9511",
            "2f3657c4727e4197b34941d71025eb74",
            "d933c048e877469ab575e552e0c28ae7",
            "5066245594f64484af1e869fbfd56caf",
            "8e2180ffb06a4d82a259d283a98c15c6",
            "0772ee8583604c13bf4c5b19d3e19e01",
            "85cb0f97d5214f5cb9aad82c00eb8cab",
            "4e515a07076a492f9a0a134578802391",
            "0052b3a47f6e45be9f03d2d093f4ea4d",
            "b5900c586d6744c2b3210e969a515c9f"
          ]
        },
        "id": "v_SDEvDKwlEb",
        "outputId": "90c6419a-a8e3-4b22-934d-1081864f81a9"
      },
      "execution_count": null,
      "outputs": [
        {
          "output_type": "display_data",
          "data": {
            "text/plain": [
              "IntSlider(value=38, description='Age:', max=64, min=18)"
            ],
            "application/vnd.jupyter.widget-view+json": {
              "version_major": 2,
              "version_minor": 0,
              "model_id": "6f94ca25d1f040b8bdf65d78712ae2ce"
            }
          },
          "metadata": {}
        },
        {
          "output_type": "display_data",
          "data": {
            "text/plain": [
              "IntSlider(value=30, description='BMI:', max=54, min=15)"
            ],
            "application/vnd.jupyter.widget-view+json": {
              "version_major": 2,
              "version_minor": 0,
              "model_id": "0228f851b4b24cd4824f65f6a357762e"
            }
          },
          "metadata": {}
        },
        {
          "output_type": "display_data",
          "data": {
            "text/plain": [
              "IntSlider(value=1, description='Children:', max=5)"
            ],
            "application/vnd.jupyter.widget-view+json": {
              "version_major": 2,
              "version_minor": 0,
              "model_id": "f1b95f263ef040c4b7670ebf19ca3b0d"
            }
          },
          "metadata": {}
        },
        {
          "output_type": "display_data",
          "data": {
            "text/plain": [
              "ToggleButtons(description='Sex:', index=1, options=('female', 'male'), value='male')"
            ],
            "application/vnd.jupyter.widget-view+json": {
              "version_major": 2,
              "version_minor": 0,
              "model_id": "2f3657c4727e4197b34941d71025eb74"
            }
          },
          "metadata": {}
        },
        {
          "output_type": "display_data",
          "data": {
            "text/plain": [
              "ToggleButtons(description='Smoker:', index=1, options=('yes', 'no'), value='no')"
            ],
            "application/vnd.jupyter.widget-view+json": {
              "version_major": 2,
              "version_minor": 0,
              "model_id": "8e2180ffb06a4d82a259d283a98c15c6"
            }
          },
          "metadata": {}
        },
        {
          "output_type": "display_data",
          "data": {
            "text/plain": [
              "Dropdown(description='Region:', index=2, options=('northeast', 'northwest', 'southeast', 'outhwest'), value='s…"
            ],
            "application/vnd.jupyter.widget-view+json": {
              "version_major": 2,
              "version_minor": 0,
              "model_id": "4e515a07076a492f9a0a134578802391"
            }
          },
          "metadata": {}
        }
      ]
    },
    {
      "cell_type": "code",
      "source": [
        "# Will update according to the input in the widgets\n",
        "age_widget.value"
      ],
      "metadata": {
        "colab": {
          "base_uri": "https://localhost:8080/"
        },
        "id": "SjfWwsvyw0T7",
        "outputId": "81739df0-2789-4674-e30f-26ae4ecafd69"
      },
      "execution_count": null,
      "outputs": [
        {
          "output_type": "execute_result",
          "data": {
            "text/plain": [
              "38"
            ]
          },
          "metadata": {},
          "execution_count": 60
        }
      ]
    },
    {
      "cell_type": "code",
      "source": [
        "# Create a predict button.\n",
        "predict_button= widgets.Button(\n",
        "                description='Predict'\n",
        "                )\n",
        "# Output\n",
        "prediction_out=widgets.Output()\n",
        "\n",
        "# Create a prediction function.\n",
        "\n",
        "def make_prediction(btn):\n",
        "    x=pd.DataFrame({\n",
        "        'age': age_widget.value,\n",
        "        'sex': sex_widget.value,\n",
        "        'bmi': bmi_widget.value, \n",
        "        'children': children_widget.value,\n",
        "        'smoker': smoker_widget.value,\n",
        "        'region': region_widget.value\n",
        "    }, index=[0])\n",
        "\n",
        "    prediction=model2.predict(x)\n",
        "\n",
        "    with prediction_out:\n",
        "      prediction_out.clear_output()\n",
        "      print(\"Prediction: {:.4f}\".format(prediction[0]))\n",
        "\n",
        "\n",
        "predict_button.on_click(make_prediction)\n",
        "\n",
        "# Display\n",
        "display(age_widget, BMI_widget, children_widget, sex_widget, smoker_widget, region_widget, predict_button, prediction_out)\n",
        "\n",
        "\n"
      ],
      "metadata": {
        "colab": {
          "base_uri": "https://localhost:8080/",
          "height": 250,
          "referenced_widgets": [
            "6f94ca25d1f040b8bdf65d78712ae2ce",
            "7dd97e9e12774b5380897a2651105bb6",
            "68b70e36266a4bbb883ac672a15e0914",
            "0228f851b4b24cd4824f65f6a357762e",
            "9898df14f0b14c9983ca213a9ce187af",
            "859cf5d5abfe475f8f800609ac9d2b39",
            "f1b95f263ef040c4b7670ebf19ca3b0d",
            "2a01610085294f17894abfe2a3455614",
            "4c4fb14ab039414498f3206974aa9511",
            "2f3657c4727e4197b34941d71025eb74",
            "d933c048e877469ab575e552e0c28ae7",
            "5066245594f64484af1e869fbfd56caf",
            "8e2180ffb06a4d82a259d283a98c15c6",
            "0772ee8583604c13bf4c5b19d3e19e01",
            "85cb0f97d5214f5cb9aad82c00eb8cab",
            "4e515a07076a492f9a0a134578802391",
            "0052b3a47f6e45be9f03d2d093f4ea4d",
            "b5900c586d6744c2b3210e969a515c9f",
            "f6fa517b4d2746f6b522c66c3bc3ca5e",
            "e4f52ed48e7e4cb2a4f6b982e9b53b9a",
            "478e9a7164ba4989b5879d146bdc6950",
            "cac104115f04444d936746a2e226f006",
            "237f294d62dd4aa3b0b67eaf120e4324"
          ]
        },
        "id": "IDy13pBrw8HG",
        "outputId": "9508ff0e-9d74-400d-ec07-797a22975589"
      },
      "execution_count": null,
      "outputs": [
        {
          "output_type": "display_data",
          "data": {
            "text/plain": [
              "IntSlider(value=38, description='Age:', max=64, min=18)"
            ],
            "application/vnd.jupyter.widget-view+json": {
              "version_major": 2,
              "version_minor": 0,
              "model_id": "6f94ca25d1f040b8bdf65d78712ae2ce"
            }
          },
          "metadata": {}
        },
        {
          "output_type": "display_data",
          "data": {
            "text/plain": [
              "IntSlider(value=30, description='BMI:', max=54, min=15)"
            ],
            "application/vnd.jupyter.widget-view+json": {
              "version_major": 2,
              "version_minor": 0,
              "model_id": "0228f851b4b24cd4824f65f6a357762e"
            }
          },
          "metadata": {}
        },
        {
          "output_type": "display_data",
          "data": {
            "text/plain": [
              "IntSlider(value=1, description='Children:', max=5)"
            ],
            "application/vnd.jupyter.widget-view+json": {
              "version_major": 2,
              "version_minor": 0,
              "model_id": "f1b95f263ef040c4b7670ebf19ca3b0d"
            }
          },
          "metadata": {}
        },
        {
          "output_type": "display_data",
          "data": {
            "text/plain": [
              "ToggleButtons(description='Sex:', index=1, options=('female', 'male'), value='male')"
            ],
            "application/vnd.jupyter.widget-view+json": {
              "version_major": 2,
              "version_minor": 0,
              "model_id": "2f3657c4727e4197b34941d71025eb74"
            }
          },
          "metadata": {}
        },
        {
          "output_type": "display_data",
          "data": {
            "text/plain": [
              "ToggleButtons(description='Smoker:', index=1, options=('yes', 'no'), value='no')"
            ],
            "application/vnd.jupyter.widget-view+json": {
              "version_major": 2,
              "version_minor": 0,
              "model_id": "8e2180ffb06a4d82a259d283a98c15c6"
            }
          },
          "metadata": {}
        },
        {
          "output_type": "display_data",
          "data": {
            "text/plain": [
              "Dropdown(description='Region:', index=2, options=('northeast', 'northwest', 'southeast', 'outhwest'), value='s…"
            ],
            "application/vnd.jupyter.widget-view+json": {
              "version_major": 2,
              "version_minor": 0,
              "model_id": "4e515a07076a492f9a0a134578802391"
            }
          },
          "metadata": {}
        },
        {
          "output_type": "display_data",
          "data": {
            "text/plain": [
              "Button(description='Predict', style=ButtonStyle())"
            ],
            "application/vnd.jupyter.widget-view+json": {
              "version_major": 2,
              "version_minor": 0,
              "model_id": "f6fa517b4d2746f6b522c66c3bc3ca5e"
            }
          },
          "metadata": {}
        },
        {
          "output_type": "display_data",
          "data": {
            "text/plain": [
              "Output()"
            ],
            "application/vnd.jupyter.widget-view+json": {
              "version_major": 2,
              "version_minor": 0,
              "model_id": "cac104115f04444d936746a2e226f006"
            }
          },
          "metadata": {}
        }
      ]
    }
  ]
}